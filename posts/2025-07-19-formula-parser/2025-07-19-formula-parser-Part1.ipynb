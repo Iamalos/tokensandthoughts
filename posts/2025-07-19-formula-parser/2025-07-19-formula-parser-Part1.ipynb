{
 "cells": [
  {
   "cell_type": "raw",
   "id": "3d8a35c9-9ebf-40ea-850f-137324ccceba",
   "metadata": {},
   "source": [
    "---\n",
    "title: Excel Parser Part 1\n",
    "data: 2025-07-19\n",
    "description: Exploring excel formula parser\n",
    "categories: [excel, coding, python]\n",
    "format:\n",
    "    html:\n",
    "        code-summary: \"Show code\"\n",
    "        echo: true\n",
    "---"
   ]
  },
  {
   "cell_type": "code",
   "execution_count": 47,
   "id": "4a3834f9-b893-477b-b9f4-1672677b29b6",
   "metadata": {},
   "outputs": [],
   "source": [
    "#| default_exp fast_excel"
   ]
  },
  {
   "cell_type": "code",
   "execution_count": 117,
   "id": "909cbcf5-3d92-4d63-a9e1-12ed8758b0be",
   "metadata": {},
   "outputs": [],
   "source": [
    "#| echo: false\n",
    "from fastcore.utils import *\n",
    "import fastcore.all as fc, re, math, itertools, functools, numpy as np, types, typing, dataclasses, matplotlib.pyplot as plt, collections, regex\n",
    "from dataclasses import dataclass\n",
    "np.set_printoptions(linewidth=150, suppress=True)\n",
    "plt.rcParams['figure.dpi'] = 50\n",
    "import pandas as pd\n",
    "from pathlib import Path\n",
    "import ast\n",
    "import pyxirr\n",
    "%matplotlib inline"
   ]
  },
  {
   "cell_type": "markdown",
   "id": "26569a80-5cf8-45b9-908e-375cafc71c49",
   "metadata": {},
   "source": [
    "# Intro"
   ]
  },
  {
   "cell_type": "markdown",
   "id": "0d5f3ea2-8dee-4b56-825b-c302b3eb22dd",
   "metadata": {},
   "source": [
    "In financial modelling there is a trade-off between complexity and granularity of a model and how quickly we are able to iterate and calculate different scenarios. Partially this can be solved by employing efficient model structure and VBA macros to calculate different scenarios or create sensitivity tables. \n",
    "\n",
    "VBA, although suitable for its purpose, is rather unflexible and sometimes it is a pain to write something more complex than simple procedures. Python, on the other hand, is __very__ flexible and boasts a huge number of libraries suited for all purposes from vizulization to running complex optimizations. There are also packages that allow to write python code directly in VBA but today we will explore another direction. \n",
    "\n",
    "We will export a simple DCF model from Excel to Python and recreate relations between variables that are of interest to us. Some variables (external data or plain user inputs) will be treated as constants, while other will be calculated based on excel formulas. To test this approach we create a very simple excel DCF model that calculates IRR and captures some important relations (price / volume, exchange rate, etc). Most of the inputs are treated as fixed as this stage (although they might still be the result of a complex calculation in excel) to be able to quickly iterate. Later we will extend our approach to deal with more complex model structure.\n",
    "\n",
    "So before delving into the details, let's spell out our goal once more:\n",
    "\n",
    "> Convert Excel financial model into a Python calculation engine by converting text formula descriptions (like `Revenue=Production*Netback Price`) into executable pandas operations."
   ]
  },
  {
   "cell_type": "markdown",
   "id": "146c718c-fd45-4989-8b4b-1b93df000e13",
   "metadata": {},
   "source": [
    "# Part 1 - Exploration"
   ]
  },
  {
   "cell_type": "markdown",
   "id": "b58d91e0-d361-499f-a107-a6b369561478",
   "metadata": {},
   "source": [
    "First we load our simple excel model in pandas dataframe. Column `Formula` contains a formula used to calculate a given row. For example `Revenue` is calculated as `Production * Netback Price`. This means that in Python that row shall be calculated by multiplying row `Production` by row `Netback Price`. If formula is a `Constant`, then no operation is applied. For ease of access we separate numerical data (`data` dataframe) from metadata (`metadata` dataframe).\n",
    "\n",
    "Let's check our `data` frame."
   ]
  },
  {
   "cell_type": "code",
   "execution_count": 68,
   "id": "96f6c809-0cd5-4411-a8da-5c6491c4a796",
   "metadata": {
    "scrolled": true
   },
   "outputs": [],
   "source": [
    "path = Path(\"SimpleModel_v0.xlsm\")\n",
    "mdl = pd.read_excel(path, sheet_name=\"mdl\", header=2, index_col=1)\n",
    "\n",
    "unnamed_cols = [col for col in mdl.columns if col.startswith('Unnamed')]\n",
    "mdl = mdl.drop(columns=unnamed_cols)\n",
    "\n",
    "metadata_cols = ['Units', 'Formula']\n",
    "data_cols = [col for col in mdl.columns if col not in metadata_cols]\n",
    "\n",
    "# Create clean data matrix with only numeric values\n",
    "data = mdl[data_cols].copy() \n",
    "metadata = mdl[metadata_cols].copy()"
   ]
  },
  {
   "cell_type": "code",
   "execution_count": 67,
   "id": "74a8d16b-91e8-4954-919e-c4d574dbcedd",
   "metadata": {},
   "outputs": [
    {
     "data": {
      "text/html": [
       "<div>\n",
       "<style scoped>\n",
       "    .dataframe tbody tr th:only-of-type {\n",
       "        vertical-align: middle;\n",
       "    }\n",
       "\n",
       "    .dataframe tbody tr th {\n",
       "        vertical-align: top;\n",
       "    }\n",
       "\n",
       "    .dataframe thead th {\n",
       "        text-align: right;\n",
       "    }\n",
       "</style>\n",
       "<table border=\"1\" class=\"dataframe\">\n",
       "  <thead>\n",
       "    <tr style=\"text-align: right;\">\n",
       "      <th></th>\n",
       "      <th>2Q 2027</th>\n",
       "      <th>3Q 2027</th>\n",
       "      <th>4Q 2027</th>\n",
       "      <th>1Q 2028</th>\n",
       "      <th>2Q 2028</th>\n",
       "      <th>3Q 2028</th>\n",
       "      <th>4Q 2028</th>\n",
       "      <th>1Q 2029</th>\n",
       "      <th>2Q 2029</th>\n",
       "      <th>3Q 2029</th>\n",
       "      <th>4Q 2029</th>\n",
       "      <th>1Q 2030</th>\n",
       "      <th>2Q 2030</th>\n",
       "      <th>3Q 2030</th>\n",
       "      <th>4Q 2030</th>\n",
       "    </tr>\n",
       "    <tr>\n",
       "      <th>Category</th>\n",
       "      <th></th>\n",
       "      <th></th>\n",
       "      <th></th>\n",
       "      <th></th>\n",
       "      <th></th>\n",
       "      <th></th>\n",
       "      <th></th>\n",
       "      <th></th>\n",
       "      <th></th>\n",
       "      <th></th>\n",
       "      <th></th>\n",
       "      <th></th>\n",
       "      <th></th>\n",
       "      <th></th>\n",
       "      <th></th>\n",
       "    </tr>\n",
       "  </thead>\n",
       "  <tbody>\n",
       "    <tr>\n",
       "      <th>Timeline</th>\n",
       "      <td>2027-06-30 00:00:00</td>\n",
       "      <td>2027-09-30 00:00:00</td>\n",
       "      <td>2027-12-31 00:00:00</td>\n",
       "      <td>2028-03-31 00:00:00</td>\n",
       "      <td>2028-06-30 00:00:00</td>\n",
       "      <td>2028-09-30 00:00:00</td>\n",
       "      <td>2028-12-31 00:00:00</td>\n",
       "      <td>2029-03-31 00:00:00</td>\n",
       "      <td>2029-06-30 00:00:00</td>\n",
       "      <td>2029-09-30 00:00:00</td>\n",
       "      <td>2029-12-31 00:00:00</td>\n",
       "      <td>2030-03-31 00:00:00</td>\n",
       "      <td>2030-06-30 00:00:00</td>\n",
       "      <td>2030-09-30 00:00:00</td>\n",
       "      <td>2030-12-31 00:00:00</td>\n",
       "    </tr>\n",
       "    <tr>\n",
       "      <th>Exchange rate</th>\n",
       "      <td>106.220877</td>\n",
       "      <td>106.220877</td>\n",
       "      <td>106.220877</td>\n",
       "      <td>109.938608</td>\n",
       "      <td>109.938608</td>\n",
       "      <td>109.938608</td>\n",
       "      <td>109.938608</td>\n",
       "      <td>113.786459</td>\n",
       "      <td>113.786459</td>\n",
       "      <td>113.786459</td>\n",
       "      <td>113.786459</td>\n",
       "      <td>117.768985</td>\n",
       "      <td>117.768985</td>\n",
       "      <td>117.768985</td>\n",
       "      <td>117.768985</td>\n",
       "    </tr>\n",
       "    <tr>\n",
       "      <th>Profit Tax Rate</th>\n",
       "      <td>0</td>\n",
       "      <td>0</td>\n",
       "      <td>0</td>\n",
       "      <td>0</td>\n",
       "      <td>0</td>\n",
       "      <td>0</td>\n",
       "      <td>0</td>\n",
       "      <td>0</td>\n",
       "      <td>0</td>\n",
       "      <td>0</td>\n",
       "      <td>0</td>\n",
       "      <td>0</td>\n",
       "      <td>0</td>\n",
       "      <td>0</td>\n",
       "      <td>0</td>\n",
       "    </tr>\n",
       "    <tr>\n",
       "      <th>Production</th>\n",
       "      <td>448.767123</td>\n",
       "      <td>453.69863</td>\n",
       "      <td>453.69863</td>\n",
       "      <td>447.540984</td>\n",
       "      <td>447.540984</td>\n",
       "      <td>452.459016</td>\n",
       "      <td>452.459016</td>\n",
       "      <td>443.835616</td>\n",
       "      <td>448.767123</td>\n",
       "      <td>305.753425</td>\n",
       "      <td>453.69863</td>\n",
       "      <td>443.835616</td>\n",
       "      <td>448.767123</td>\n",
       "      <td>453.69863</td>\n",
       "      <td>453.69863</td>\n",
       "    </tr>\n",
       "    <tr>\n",
       "      <th>Netback Price</th>\n",
       "      <td>280.771391</td>\n",
       "      <td>282.176322</td>\n",
       "      <td>283.588283</td>\n",
       "      <td>342.187477</td>\n",
       "      <td>343.876427</td>\n",
       "      <td>345.592412</td>\n",
       "      <td>347.316959</td>\n",
       "      <td>357.816595</td>\n",
       "      <td>359.587537</td>\n",
       "      <td>361.386849</td>\n",
       "      <td>363.195166</td>\n",
       "      <td>375.444445</td>\n",
       "      <td>377.302632</td>\n",
       "      <td>379.190589</td>\n",
       "      <td>381.087992</td>\n",
       "    </tr>\n",
       "    <tr>\n",
       "      <th>Revenue</th>\n",
       "      <td>126000.969638</td>\n",
       "      <td>128023.010865</td>\n",
       "      <td>128663.615566</td>\n",
       "      <td>153142.920202</td>\n",
       "      <td>153898.794591</td>\n",
       "      <td>156366.402698</td>\n",
       "      <td>157146.68965</td>\n",
       "      <td>158811.748795</td>\n",
       "      <td>161371.064327</td>\n",
       "      <td>110495.266858</td>\n",
       "      <td>164781.149254</td>\n",
       "      <td>166635.61663</td>\n",
       "      <td>169321.016954</td>\n",
       "      <td>172038.250623</td>\n",
       "      <td>172899.099867</td>\n",
       "    </tr>\n",
       "    <tr>\n",
       "      <th>Gas consumption</th>\n",
       "      <td>1031.758261</td>\n",
       "      <td>1031.758261</td>\n",
       "      <td>1031.758261</td>\n",
       "      <td>1031.758261</td>\n",
       "      <td>1031.758261</td>\n",
       "      <td>1031.758261</td>\n",
       "      <td>1031.758261</td>\n",
       "      <td>1031.758261</td>\n",
       "      <td>1031.758261</td>\n",
       "      <td>1031.758261</td>\n",
       "      <td>1031.758261</td>\n",
       "      <td>1031.758261</td>\n",
       "      <td>1031.758261</td>\n",
       "      <td>1031.758261</td>\n",
       "      <td>1031.758261</td>\n",
       "    </tr>\n",
       "    <tr>\n",
       "      <th>Gas price</th>\n",
       "      <td>9493.987437</td>\n",
       "      <td>10348.446306</td>\n",
       "      <td>10348.446306</td>\n",
       "      <td>10348.446306</td>\n",
       "      <td>10348.446306</td>\n",
       "      <td>11072.837547</td>\n",
       "      <td>11072.837547</td>\n",
       "      <td>11072.837547</td>\n",
       "      <td>11072.837547</td>\n",
       "      <td>11515.751049</td>\n",
       "      <td>11515.751049</td>\n",
       "      <td>11515.751049</td>\n",
       "      <td>11515.751049</td>\n",
       "      <td>11976.381091</td>\n",
       "      <td>11976.381091</td>\n",
       "    </tr>\n",
       "    <tr>\n",
       "      <th>Gas cost</th>\n",
       "      <td>-41384.504283</td>\n",
       "      <td>-45604.81417</td>\n",
       "      <td>-45604.81417</td>\n",
       "      <td>-43464.599744</td>\n",
       "      <td>-43464.599744</td>\n",
       "      <td>-47018.188997</td>\n",
       "      <td>-47018.188997</td>\n",
       "      <td>-44562.38748</td>\n",
       "      <td>-45057.525118</td>\n",
       "      <td>-31926.474941</td>\n",
       "      <td>-47374.769267</td>\n",
       "      <td>-44777.664714</td>\n",
       "      <td>-45275.194322</td>\n",
       "      <td>-47603.632887</td>\n",
       "      <td>-47603.632887</td>\n",
       "    </tr>\n",
       "    <tr>\n",
       "      <th>Catalysts cost</th>\n",
       "      <td>-1852.643093</td>\n",
       "      <td>-1882.334961</td>\n",
       "      <td>-1891.714621</td>\n",
       "      <td>-1903.393214</td>\n",
       "      <td>-1912.802041</td>\n",
       "      <td>-1943.486394</td>\n",
       "      <td>-1953.199244</td>\n",
       "      <td>-1954.320729</td>\n",
       "      <td>-1985.906736</td>\n",
       "      <td>-1359.868942</td>\n",
       "      <td>-2028.061412</td>\n",
       "      <td>-2023.758665</td>\n",
       "      <td>-2056.546174</td>\n",
       "      <td>-2089.727828</td>\n",
       "      <td>-2100.363934</td>\n",
       "    </tr>\n",
       "  </tbody>\n",
       "</table>\n",
       "</div>"
      ],
      "text/plain": [
       "                             2Q 2027              3Q 2027  \\\n",
       "Category                                                    \n",
       "Timeline         2027-06-30 00:00:00  2027-09-30 00:00:00   \n",
       "Exchange rate             106.220877           106.220877   \n",
       "Profit Tax Rate                    0                    0   \n",
       "Production                448.767123            453.69863   \n",
       "Netback Price             280.771391           282.176322   \n",
       "Revenue                126000.969638        128023.010865   \n",
       "Gas consumption          1031.758261          1031.758261   \n",
       "Gas price                9493.987437         10348.446306   \n",
       "Gas cost               -41384.504283         -45604.81417   \n",
       "Catalysts cost          -1852.643093         -1882.334961   \n",
       "\n",
       "                             4Q 2027              1Q 2028  \\\n",
       "Category                                                    \n",
       "Timeline         2027-12-31 00:00:00  2028-03-31 00:00:00   \n",
       "Exchange rate             106.220877           109.938608   \n",
       "Profit Tax Rate                    0                    0   \n",
       "Production                 453.69863           447.540984   \n",
       "Netback Price             283.588283           342.187477   \n",
       "Revenue                128663.615566        153142.920202   \n",
       "Gas consumption          1031.758261          1031.758261   \n",
       "Gas price               10348.446306         10348.446306   \n",
       "Gas cost                -45604.81417        -43464.599744   \n",
       "Catalysts cost          -1891.714621         -1903.393214   \n",
       "\n",
       "                             2Q 2028              3Q 2028  \\\n",
       "Category                                                    \n",
       "Timeline         2028-06-30 00:00:00  2028-09-30 00:00:00   \n",
       "Exchange rate             109.938608           109.938608   \n",
       "Profit Tax Rate                    0                    0   \n",
       "Production                447.540984           452.459016   \n",
       "Netback Price             343.876427           345.592412   \n",
       "Revenue                153898.794591        156366.402698   \n",
       "Gas consumption          1031.758261          1031.758261   \n",
       "Gas price               10348.446306         11072.837547   \n",
       "Gas cost               -43464.599744        -47018.188997   \n",
       "Catalysts cost          -1912.802041         -1943.486394   \n",
       "\n",
       "                             4Q 2028              1Q 2029  \\\n",
       "Category                                                    \n",
       "Timeline         2028-12-31 00:00:00  2029-03-31 00:00:00   \n",
       "Exchange rate             109.938608           113.786459   \n",
       "Profit Tax Rate                    0                    0   \n",
       "Production                452.459016           443.835616   \n",
       "Netback Price             347.316959           357.816595   \n",
       "Revenue                 157146.68965        158811.748795   \n",
       "Gas consumption          1031.758261          1031.758261   \n",
       "Gas price               11072.837547         11072.837547   \n",
       "Gas cost               -47018.188997         -44562.38748   \n",
       "Catalysts cost          -1953.199244         -1954.320729   \n",
       "\n",
       "                             2Q 2029              3Q 2029  \\\n",
       "Category                                                    \n",
       "Timeline         2029-06-30 00:00:00  2029-09-30 00:00:00   \n",
       "Exchange rate             113.786459           113.786459   \n",
       "Profit Tax Rate                    0                    0   \n",
       "Production                448.767123           305.753425   \n",
       "Netback Price             359.587537           361.386849   \n",
       "Revenue                161371.064327        110495.266858   \n",
       "Gas consumption          1031.758261          1031.758261   \n",
       "Gas price               11072.837547         11515.751049   \n",
       "Gas cost               -45057.525118        -31926.474941   \n",
       "Catalysts cost          -1985.906736         -1359.868942   \n",
       "\n",
       "                             4Q 2029              1Q 2030  \\\n",
       "Category                                                    \n",
       "Timeline         2029-12-31 00:00:00  2030-03-31 00:00:00   \n",
       "Exchange rate             113.786459           117.768985   \n",
       "Profit Tax Rate                    0                    0   \n",
       "Production                 453.69863           443.835616   \n",
       "Netback Price             363.195166           375.444445   \n",
       "Revenue                164781.149254         166635.61663   \n",
       "Gas consumption          1031.758261          1031.758261   \n",
       "Gas price               11515.751049         11515.751049   \n",
       "Gas cost               -47374.769267        -44777.664714   \n",
       "Catalysts cost          -2028.061412         -2023.758665   \n",
       "\n",
       "                             2Q 2030              3Q 2030              4Q 2030  \n",
       "Category                                                                        \n",
       "Timeline         2030-06-30 00:00:00  2030-09-30 00:00:00  2030-12-31 00:00:00  \n",
       "Exchange rate             117.768985           117.768985           117.768985  \n",
       "Profit Tax Rate                    0                    0                    0  \n",
       "Production                448.767123            453.69863            453.69863  \n",
       "Netback Price             377.302632           379.190589           381.087992  \n",
       "Revenue                169321.016954        172038.250623        172899.099867  \n",
       "Gas consumption          1031.758261          1031.758261          1031.758261  \n",
       "Gas price               11515.751049         11976.381091         11976.381091  \n",
       "Gas cost               -45275.194322        -47603.632887        -47603.632887  \n",
       "Catalysts cost          -2056.546174         -2089.727828         -2100.363934  "
      ]
     },
     "execution_count": 67,
     "metadata": {},
     "output_type": "execute_result"
    }
   ],
   "source": [
    "#|echo: false\n",
    "data.iloc[:10][data.columns[30:45]]"
   ]
  },
  {
   "cell_type": "markdown",
   "id": "fa75b122-a70a-4c3e-b142-a646f83842b5",
   "metadata": {},
   "source": [
    "::: {.callout-note collapse=\"true\"}\n",
    "Note that for now we load data in excel-friendly format (categories vertical, timeline horizontal). For pandas the native way would be transposed as it treates every column as a separate series. This will be reconsidered later.\n",
    ":::"
   ]
  },
  {
   "cell_type": "markdown",
   "id": "bcddf8f1-8120-47b4-847d-b904b4d6472b",
   "metadata": {},
   "source": [
    "Now let's extract formulas from the Formula column and print those that are not `Const`"
   ]
  },
  {
   "cell_type": "code",
   "execution_count": 70,
   "id": "76220817-ca05-4837-90eb-4c970bd5d596",
   "metadata": {},
   "outputs": [
    {
     "name": "stdout",
     "output_type": "stream",
     "text": [
      "Formula analysis:\n",
      "\n",
      "Revenue: Production*Netback Price\n",
      "Gas cost: -Gas consumption*Production*Gas price/Exchange rate/1000\n",
      "Total Opex: Gas cost+Catalysts cost+Personnel cost+Current repairs cost\n",
      "EBITDA: Revenue+Total Opex+Administrative cost\n",
      "EBIT: EBITDA+Амортизация\n",
      "Налог на EBIT: IF(EBIT<0,0,EBIT*Profit Tax Rate)\n",
      "NOPLAT: EBIT-Налог на EBIT\n",
      "FCFF: NOPLAT-Амортизация+Изменения в оборотном  капитале+Капитальные вложения и капитализированные расходы\n",
      "Итого FCFF: FCFF+Терминальный поток\n",
      "IRR: XIRR(Итого FCFF,Timeline,0)\n"
     ]
    }
   ],
   "source": [
    "#|echo: false\n",
    "original_formulas = metadata['Formula'].to_dict()\n",
    "print(\"Formula analysis:\\n\")\n",
    "[print(f\"{row}: {formula}\") for row, formula in original_formulas.items() if formula != 'Const'];"
   ]
  },
  {
   "cell_type": "markdown",
   "id": "8c71a125-e0ad-44f2-bee3-81b4adc42139",
   "metadata": {},
   "source": [
    "Let's remind ourselves of our goal: we want to parse those textual formulas to recreate the dependencies between variables (dataframe rows). We can use Abstract Syntax Tree `ast` built-in Python library for that. `ast` allows to represents code as a tree structure, where each node represents a construct in the programming language (operators, variables, functions, etc.). See examples below."
   ]
  },
  {
   "cell_type": "markdown",
   "id": "badef6bc-cf73-4b2d-9ff1-c5ff987ae393",
   "metadata": {},
   "source": [
    "::: {.callout-note collapse=\"true\"}\n",
    "`operands` are the **inputs** or **arguments** to an operation. Think of them as the values that an operation works on.\n",
    ":::"
   ]
  },
  {
   "cell_type": "markdown",
   "id": "53fca709-bcce-43c8-94dc-e5e87c9237b7",
   "metadata": {
    "jp-MarkdownHeadingCollapsed": true
   },
   "source": [
    "**Simple operation**: `A + B`\n",
    "\n",
    "* `op_type`: 'add'\n",
    "* `operands`: ['A', 'B']  ← A and B are the operands\n",
    "\n",
    "**More Complex operation**: `A * (B - C)`\n",
    "\n",
    "* `op_type`: 'multiply'\n",
    "* `operands`: ['A', Operation('subtract', ['B', 'C'])]\n",
    "    + First operand: 'A' (a variable)\n",
    "    + Second operand: Another Operation that subtracts C from B\n",
    "\n",
    "**From our model**: `Revenue = Production * Netback Price`\n",
    "\n",
    "* `op_type`: 'multiply'\n",
    "* `operands`: ['Production', 'Netback_Price']\n",
    "  + First operand: 'Production' (variable name)\n",
    "  + Second operand: 'Netback_Price' (variable name)\n",
    "\n",
    "**More complex**: `Gas cost = -Gas consumption * Production * Gas price / Exchange rate / 1000`.\n",
    "This creates a nested structure:\n",
    "```\n",
    "Operation(op_type='divide', operands=[\n",
    "    Operation(op_type='divide', operands=[\n",
    "        Operation(op_type='multiply', operands=[\n",
    "            Operation(op_type='negate', operands=['Gas_consumption']),\n",
    "            'Production'\n",
    "        ]),\n",
    "        'Exchange_rate'\n",
    "    ]),\n",
    "    1000\n",
    "])\n",
    "```\n",
    "\n",
    "So operands can be\n",
    "\n",
    "* **Strings**: Variable names like 'Production'\n",
    "* **Numbers**: Constants like 1000\n",
    "* **Other Operations**: For nested calculations"
   ]
  },
  {
   "cell_type": "markdown",
   "id": "9ee46361-4745-4b42-8338-1dc53195a0af",
   "metadata": {},
   "source": [
    "This tree structure lets us represent any mathematical expression. Let's see an actual example with code"
   ]
  },
  {
   "cell_type": "code",
   "execution_count": 80,
   "id": "a742e252-7c3c-4f00-944c-2c107322487a",
   "metadata": {},
   "outputs": [
    {
     "name": "stdout",
     "output_type": "stream",
     "text": [
      "Example: 2 + 5\n",
      "Result:Expression(\n",
      "  body=BinOp(\n",
      "    left=Constant(value=2),\n",
      "    op=Add(),\n",
      "    right=Constant(value=5)))\n",
      "\n",
      "Example: 2 + (3 * 4/2)**5\n",
      "Result:Expression(\n",
      "  body=BinOp(\n",
      "    left=Constant(value=2),\n",
      "    op=Add(),\n",
      "    right=BinOp(\n",
      "      left=BinOp(\n",
      "        left=BinOp(\n",
      "          left=Constant(value=3),\n",
      "          op=Mult(),\n",
      "          right=Constant(value=4)),\n",
      "        op=Div(),\n",
      "        right=Constant(value=2)),\n",
      "      op=Pow(),\n",
      "      right=Constant(value=5))))\n",
      "\n"
     ]
    }
   ],
   "source": [
    "#|code-fold: true\n",
    "code = \"2 + 5\"\n",
    "tree = ast.parse(code, mode='eval')\n",
    "print(f\"Example: {code}\")\n",
    "print(f\"Result:{ast.dump(tree, indent=2)}\\n\")\n",
    "\n",
    "code = \"2 + (3 * 4/2)**5\"\n",
    "tree = ast.parse(code, mode='eval')\n",
    "print(f\"Example: {code}\")\n",
    "print(f\"Result:{ast.dump(tree, indent=2)}\\n\")"
   ]
  },
  {
   "cell_type": "markdown",
   "id": "b0ec31db-4325-436f-9624-4a888a1b7529",
   "metadata": {},
   "source": [
    "We can leverage `ast` library for our financial model as it handles operator precedence and parentheses automatically. First let's introduce an `Operation` dataclass that will be used to represent calcualtion flow as series of nested operations. Each operation has an operator like `addition`, `subtraction`, `multiplication`, etc. and operands which can also be an Operation. "
   ]
  },
  {
   "cell_type": "code",
   "execution_count": 81,
   "id": "64a54adc-69b2-4d10-8583-ab2049417155",
   "metadata": {},
   "outputs": [
    {
     "data": {
      "text/plain": [
       "Operation(op_type='add', operands=[Operation(op_type='divide', operands=[10, 4]), 2])"
      ]
     },
     "execution_count": 81,
     "metadata": {},
     "output_type": "execute_result"
    }
   ],
   "source": [
    "#|echo-fold: false\n",
    "@dataclass\n",
    "class Operation:\n",
    "    op_type: str  # 'add', 'subtract', 'multiply', 'divide', 'negate', 'positive'\n",
    "    operands: List[Union[str, float, 'Operation']]\n",
    "\n",
    "Operation('add', [Operation('divide', [10, 4]), 2]) # 10 / 4 + 2"
   ]
  },
  {
   "cell_type": "markdown",
   "id": "3d8b4d34-236d-437f-8fea-c844662b32a2",
   "metadata": {},
   "source": [
    "We create `ops` dictionary to convert ast classes to textual representation to be used later for graphical representation"
   ]
  },
  {
   "cell_type": "code",
   "execution_count": 11,
   "id": "fe3244f1-8911-40cd-b0cd-1a75ec0a1ff8",
   "metadata": {},
   "outputs": [],
   "source": [
    "ops = {\n",
    "    ast.Add: 'add', ast.Sub: 'subtract', ast.Mult: 'multiply', \n",
    "    ast.Div: 'divide', ast.USub: 'negate', ast.UAdd: 'positive', ast.Pow: 'divide'\n",
    "}"
   ]
  },
  {
   "cell_type": "markdown",
   "id": "97a35d74-dfdf-4ae2-8fb5-709b6451079d",
   "metadata": {},
   "source": [
    "We also need to clean up names used in `Formulas` column as backspace is not allowed in Python names and `ast`. For that we create a varaible mapping that applies normalization to each row name."
   ]
  },
  {
   "cell_type": "code",
   "execution_count": 96,
   "id": "1527235b-e559-4eca-bbb4-3f79b2de9391",
   "metadata": {},
   "outputs": [
    {
     "data": {
      "text/plain": [
       "dict_items([('Timeline', 'Timeline'), ('Exchange rate', 'Exchange_rate'), ('Profit Tax Rate', 'Profit_Tax_Rate'), ('Production', 'Production'), ('Netback Price', 'Netback_Price'), ('Revenue', 'Revenue'), ('Gas consumption', 'Gas_consumption'), ('Gas price', 'Gas_price'), ('Gas cost', 'Gas_cost'), ('Catalysts cost', 'Catalysts_cost'), ('Personnel cost', 'Personnel_cost'), ('Current repairs cost', 'Current_repairs_cost'), ('Total Opex', 'Total_Opex'), ('Administrative cost', 'Administrative_cost'), ('EBITDA', 'EBITDA'), ('Амортизация', 'Амортизация'), ('EBIT', 'EBIT'), ('Налог на EBIT', 'Налог_на_EBIT'), ('NOPLAT', 'NOPLAT'), ('Изменения в оборотном  капитале', 'Изменения_в_оборотном__капитале'), ('Капитальные вложения и капитализированные расходы', 'Капитальные_вложения_и_капитализированные_расходы'), ('FCFF', 'FCFF'), ('Терминальный поток', 'Терминальный_поток'), ('Итого FCFF', 'Итого_FCFF'), ('IRR', 'IRR')])"
      ]
     },
     "execution_count": 96,
     "metadata": {},
     "output_type": "execute_result"
    }
   ],
   "source": [
    "var_mapping.items()"
   ]
  },
  {
   "cell_type": "code",
   "execution_count": null,
   "id": "730f1707-b7bb-4cc7-b91d-2b3fa0f0247c",
   "metadata": {
    "scrolled": true
   },
   "outputs": [],
   "source": [
    "def normalize_variable_name(name): return name.replace(' ', '_').replace('&', 'and').replace('%', 'pct')\n",
    "# Create variable mapping from our model\n",
    "row_names = metadata.index.to_list()\n",
    "var_mapping = {name: normalize_variable_name(name) for name in row_names}"
   ]
  },
  {
   "cell_type": "code",
   "execution_count": 101,
   "id": "c59f935c-3e2c-49e2-a47b-a2063baec219",
   "metadata": {
    "scrolled": true
   },
   "outputs": [
    {
     "data": {
      "text/plain": [
       "[('Timeline', 'Timeline'),\n",
       " ('Exchange rate', 'Exchange_rate'),\n",
       " ('Profit Tax Rate', 'Profit_Tax_Rate'),\n",
       " ('Production', 'Production'),\n",
       " ('Netback Price', 'Netback_Price')]"
      ]
     },
     "execution_count": 101,
     "metadata": {},
     "output_type": "execute_result"
    }
   ],
   "source": [
    "#| echo: false\n",
    "[(k,v) for k,v in var_mapping.items()][:5]"
   ]
  },
  {
   "cell_type": "code",
   "execution_count": 22,
   "id": "0d033c6d-5ff3-4fee-8f6b-70f227040bf4",
   "metadata": {},
   "outputs": [],
   "source": [
    "def prepare_formula_for_ast(formula_str, variable_mapping):\n",
    "    \"Replace variable names in formula with normalized versions\"\n",
    "    result = formula_str\n",
    "    # Sort by length (longest first) to avoid partial replacements\n",
    "    for original in sorted(variable_mapping.keys(), key=len, reverse=True):\n",
    "        if original in result: result = result.replace(original, variable_mapping[original])\n",
    "    return result"
   ]
  },
  {
   "cell_type": "markdown",
   "id": "df018ebc-099d-474e-8329-f8712d723872",
   "metadata": {},
   "source": [
    "We can use our variable mapping to clean up formulas like this:"
   ]
  },
  {
   "cell_type": "code",
   "execution_count": 106,
   "id": "b4b14d20-094d-407b-8c56-fd7f31fbded5",
   "metadata": {},
   "outputs": [
    {
     "name": "stdout",
     "output_type": "stream",
     "text": [
      "Gas consumption*Production*Gas price/Exchange rate/1000\n",
      "Gas_consumption*Production*Gas_price/Exchange_rate/1000\n"
     ]
    }
   ],
   "source": [
    "test_formula = \"Gas consumption*Production*Gas price/Exchange rate/1000\"\n",
    "normalized_formula = prepare_formula_for_ast(test_formula, var_mapping)\n",
    "print(test_formula)\n",
    "print(normalized_formula)"
   ]
  },
  {
   "cell_type": "markdown",
   "id": "2327020a-f910-4e05-acfb-6ce35ef371da",
   "metadata": {},
   "source": [
    "Now we can parse our prepared formula. First we call `ast.parse` to get the tree representation of a formula and then we recursively call `ast_to_operation` to build Operation nodes."
   ]
  },
  {
   "cell_type": "code",
   "execution_count": 107,
   "id": "7c35e778-ca31-4add-85ee-aa37a1561a3c",
   "metadata": {},
   "outputs": [
    {
     "name": "stdout",
     "output_type": "stream",
     "text": [
      "Expression(\n",
      "  body=BinOp(\n",
      "    left=BinOp(\n",
      "      left=BinOp(\n",
      "        left=BinOp(\n",
      "          left=Name(id='Gas_consumption', ctx=Load()),\n",
      "          op=Mult(),\n",
      "          right=Name(id='Production', ctx=Load())),\n",
      "        op=Mult(),\n",
      "        right=Name(id='Gas_price', ctx=Load())),\n",
      "      op=Div(),\n",
      "      right=Name(id='Exchange_rate', ctx=Load())),\n",
      "    op=Div(),\n",
      "    right=Constant(value=1000)))\n"
     ]
    }
   ],
   "source": [
    "print(ast.dump(ast.parse(normalized_formula, mode='eval'), indent=2))"
   ]
  },
  {
   "cell_type": "code",
   "execution_count": 110,
   "id": "46d55f46-f0e3-4fb1-abf7-cd277fa40c33",
   "metadata": {},
   "outputs": [],
   "source": [
    "#| code-fold: true\n",
    "def parse_with_ast(formula_str):\n",
    "    \"Parse using Python's AST - handles all precedence and parentheses\"\n",
    "    try:\n",
    "        tree = ast.parse(formula_str, mode='eval')\n",
    "        return ast_to_operation(tree.body)\n",
    "    except: return None\n",
    "\n",
    "def ast_to_operation(node):\n",
    "    \"\"\"Convert AST node to our Operation structure\"\"\"\n",
    "    if isinstance(node, ast.BinOp):\n",
    "        return Operation(ops[type(node.op)], [ast_to_operation(node.left), ast_to_operation(node.right)])\n",
    "    elif isinstance(node, ast.UnaryOp):\n",
    "        return Operation(ops[type(node.op)], [ast_to_operation(node.operand)])\n",
    "    elif isinstance(node, ast.Name):\n",
    "        return node.id  # Variable name\n",
    "    elif isinstance(node, ast.Constant):\n",
    "        return node.value  # Number\n",
    "    return str(node)"
   ]
  },
  {
   "cell_type": "code",
   "execution_count": 114,
   "id": "c99459bf-258a-461c-87e6-8cf8d19b9c09",
   "metadata": {},
   "outputs": [
    {
     "data": {
      "text/plain": [
       "Operation(op_type='divide', operands=[Operation(op_type='divide', operands=[Operation(op_type='multiply', operands=[Operation(op_type='multiply', operands=['Gas_consumption', 'Production']), 'Gas_price']), 'Exchange_rate']), 1000])"
      ]
     },
     "execution_count": 114,
     "metadata": {},
     "output_type": "execute_result"
    }
   ],
   "source": [
    "parsed_formula = parse_with_ast(normalized_formula)\n",
    "parsed_formula"
   ]
  },
  {
   "cell_type": "markdown",
   "id": "3c534537-599b-4b66-b2e4-137492f21291",
   "metadata": {},
   "source": [
    "We can vizualize our calculation flow in a tree-structure. For that let's create a simple printing function that combines operations and operands and the vizualization function using `graphviz`."
   ]
  },
  {
   "cell_type": "code",
   "execution_count": 115,
   "id": "dc59a892-4361-46ed-866e-4f25e069e877",
   "metadata": {},
   "outputs": [
    {
     "name": "stdout",
     "output_type": "stream",
     "text": [
      "Gas cost = -Gas consumption * Production * Gas price / Exchange rate / 1000\n",
      "divide\n",
      "  ├── divide\n",
      "    ├── multiply\n",
      "      ├── multiply\n",
      "        ├── Gas_consumption\n",
      "        └── Production\n",
      "      └── Gas_price\n",
      "    └── Exchange_rate\n",
      "  └── 1000\n"
     ]
    }
   ],
   "source": [
    "#| code-fold: true\n",
    "def print_tree(operation, indent=0, prefix=\"\"):\n",
    "    \"\"\"Print operation tree in a readable format\"\"\"\n",
    "    spaces = \"  \" * indent\n",
    "    \n",
    "    if isinstance(operation, Operation):\n",
    "        print(f\"{spaces}{prefix}{operation.op_type}\")\n",
    "        for i, operand in enumerate(operation.operands):\n",
    "            is_last = i == len(operation.operands) - 1\n",
    "            branch = \"└── \" if is_last else \"├── \"\n",
    "            print_tree(operand, indent + 1, branch)\n",
    "    else:\n",
    "        print(f\"{spaces}{prefix}{operation}\")\n",
    "\n",
    "# Test with Gas cost (more complex)\n",
    "print(\"Gas cost = -Gas consumption * Production * Gas price / Exchange rate / 1000\")\n",
    "print_tree(parsed_formula)"
   ]
  },
  {
   "cell_type": "code",
   "execution_count": 30,
   "id": "eaff99fc-c452-46eb-a8fc-818d30cdd363",
   "metadata": {},
   "outputs": [
    {
     "data": {
      "image/svg+xml": [
       "<?xml version=\"1.0\" encoding=\"UTF-8\" standalone=\"no\"?>\n",
       "<!DOCTYPE svg PUBLIC \"-//W3C//DTD SVG 1.1//EN\"\n",
       " \"http://www.w3.org/Graphics/SVG/1.1/DTD/svg11.dtd\">\n",
       "<!-- Generated by graphviz version 12.2.1 (20250203.1708)\n",
       " -->\n",
       "<!-- Pages: 1 -->\n",
       "<svg width=\"482pt\" height=\"332pt\"\n",
       " viewBox=\"0.00 0.00 482.49 332.00\" xmlns=\"http://www.w3.org/2000/svg\" xmlns:xlink=\"http://www.w3.org/1999/xlink\">\n",
       "<g id=\"graph0\" class=\"graph\" transform=\"scale(1 1) rotate(0) translate(4 328)\">\n",
       "<polygon fill=\"white\" stroke=\"none\" points=\"-4,4 -4,-328 478.49,-328 478.49,4 -4,4\"/>\n",
       "<!-- 0 -->\n",
       "<g id=\"node1\" class=\"node\">\n",
       "<title>0</title>\n",
       "<polygon fill=\"lightblue\" stroke=\"black\" points=\"389.83,-324 330.33,-324 330.33,-288 389.83,-288 389.83,-324\"/>\n",
       "<text text-anchor=\"middle\" x=\"360.08\" y=\"-301.32\" font-family=\"Times,serif\" font-size=\"14.00\">divide</text>\n",
       "</g>\n",
       "<!-- 1 -->\n",
       "<g id=\"node2\" class=\"node\">\n",
       "<title>1</title>\n",
       "<polygon fill=\"lightblue\" stroke=\"black\" points=\"347.83,-252 288.33,-252 288.33,-216 347.83,-216 347.83,-252\"/>\n",
       "<text text-anchor=\"middle\" x=\"318.08\" y=\"-229.32\" font-family=\"Times,serif\" font-size=\"14.00\">divide</text>\n",
       "</g>\n",
       "<!-- 0&#45;&gt;1 -->\n",
       "<g id=\"edge1\" class=\"edge\">\n",
       "<title>0&#45;&gt;1</title>\n",
       "<path fill=\"none\" stroke=\"black\" d=\"M349.7,-287.7C345.02,-279.9 339.39,-270.51 334.18,-261.83\"/>\n",
       "<polygon fill=\"black\" stroke=\"black\" points=\"337.27,-260.18 329.13,-253.4 331.27,-263.78 337.27,-260.18\"/>\n",
       "</g>\n",
       "<!-- 8 -->\n",
       "<g id=\"node9\" class=\"node\">\n",
       "<title>8</title>\n",
       "<ellipse fill=\"lightyellow\" stroke=\"black\" cx=\"402.08\" cy=\"-234\" rx=\"36.48\" ry=\"18\"/>\n",
       "<text text-anchor=\"middle\" x=\"402.08\" y=\"-229.32\" font-family=\"Times,serif\" font-size=\"14.00\">1000</text>\n",
       "</g>\n",
       "<!-- 0&#45;&gt;8 -->\n",
       "<g id=\"edge8\" class=\"edge\">\n",
       "<title>0&#45;&gt;8</title>\n",
       "<path fill=\"none\" stroke=\"black\" d=\"M370.47,-287.7C375.22,-279.78 380.95,-270.23 386.22,-261.44\"/>\n",
       "<polygon fill=\"black\" stroke=\"black\" points=\"389.19,-263.3 391.33,-252.92 383.19,-259.69 389.19,-263.3\"/>\n",
       "</g>\n",
       "<!-- 2 -->\n",
       "<g id=\"node3\" class=\"node\">\n",
       "<title>2</title>\n",
       "<polygon fill=\"lightblue\" stroke=\"black\" points=\"285.71,-180 210.46,-180 210.46,-144 285.71,-144 285.71,-180\"/>\n",
       "<text text-anchor=\"middle\" x=\"248.08\" y=\"-157.32\" font-family=\"Times,serif\" font-size=\"14.00\">multiply</text>\n",
       "</g>\n",
       "<!-- 1&#45;&gt;2 -->\n",
       "<g id=\"edge2\" class=\"edge\">\n",
       "<title>1&#45;&gt;2</title>\n",
       "<path fill=\"none\" stroke=\"black\" d=\"M300.78,-215.7C292.47,-207.39 282.36,-197.28 273.22,-188.14\"/>\n",
       "<polygon fill=\"black\" stroke=\"black\" points=\"275.8,-185.77 266.26,-181.17 270.85,-190.72 275.8,-185.77\"/>\n",
       "</g>\n",
       "<!-- 7 -->\n",
       "<g id=\"node8\" class=\"node\">\n",
       "<title>7</title>\n",
       "<ellipse fill=\"lightgreen\" stroke=\"black\" cx=\"389.08\" cy=\"-162\" rx=\"85.41\" ry=\"18\"/>\n",
       "<text text-anchor=\"middle\" x=\"389.08\" y=\"-157.32\" font-family=\"Times,serif\" font-size=\"14.00\">Exchange_rate</text>\n",
       "</g>\n",
       "<!-- 1&#45;&gt;7 -->\n",
       "<g id=\"edge7\" class=\"edge\">\n",
       "<title>1&#45;&gt;7</title>\n",
       "<path fill=\"none\" stroke=\"black\" d=\"M335.63,-215.7C344.06,-207.39 354.32,-197.28 363.58,-188.14\"/>\n",
       "<polygon fill=\"black\" stroke=\"black\" points=\"365.99,-190.68 370.66,-181.17 361.08,-185.7 365.99,-190.68\"/>\n",
       "</g>\n",
       "<!-- 3 -->\n",
       "<g id=\"node4\" class=\"node\">\n",
       "<title>3</title>\n",
       "<polygon fill=\"lightblue\" stroke=\"black\" points=\"227.71,-108 152.46,-108 152.46,-72 227.71,-72 227.71,-108\"/>\n",
       "<text text-anchor=\"middle\" x=\"190.08\" y=\"-85.33\" font-family=\"Times,serif\" font-size=\"14.00\">multiply</text>\n",
       "</g>\n",
       "<!-- 2&#45;&gt;3 -->\n",
       "<g id=\"edge3\" class=\"edge\">\n",
       "<title>2&#45;&gt;3</title>\n",
       "<path fill=\"none\" stroke=\"black\" d=\"M233.75,-143.7C227,-135.56 218.83,-125.69 211.38,-116.7\"/>\n",
       "<polygon fill=\"black\" stroke=\"black\" points=\"214.3,-114.74 205.22,-109.27 208.91,-119.2 214.3,-114.74\"/>\n",
       "</g>\n",
       "<!-- 6 -->\n",
       "<g id=\"node7\" class=\"node\">\n",
       "<title>6</title>\n",
       "<ellipse fill=\"lightgreen\" stroke=\"black\" cx=\"306.08\" cy=\"-90\" rx=\"60.15\" ry=\"18\"/>\n",
       "<text text-anchor=\"middle\" x=\"306.08\" y=\"-85.33\" font-family=\"Times,serif\" font-size=\"14.00\">Gas_price</text>\n",
       "</g>\n",
       "<!-- 2&#45;&gt;6 -->\n",
       "<g id=\"edge6\" class=\"edge\">\n",
       "<title>2&#45;&gt;6</title>\n",
       "<path fill=\"none\" stroke=\"black\" d=\"M262.42,-143.7C269.26,-135.44 277.59,-125.39 285.12,-116.3\"/>\n",
       "<polygon fill=\"black\" stroke=\"black\" points=\"287.66,-118.72 291.35,-108.79 282.27,-114.25 287.66,-118.72\"/>\n",
       "</g>\n",
       "<!-- 4 -->\n",
       "<g id=\"node5\" class=\"node\">\n",
       "<title>4</title>\n",
       "<ellipse fill=\"lightgreen\" stroke=\"black\" cx=\"99.08\" cy=\"-18\" rx=\"99.08\" ry=\"18\"/>\n",
       "<text text-anchor=\"middle\" x=\"99.08\" y=\"-13.32\" font-family=\"Times,serif\" font-size=\"14.00\">Gas_consumption</text>\n",
       "</g>\n",
       "<!-- 3&#45;&gt;4 -->\n",
       "<g id=\"edge4\" class=\"edge\">\n",
       "<title>3&#45;&gt;4</title>\n",
       "<path fill=\"none\" stroke=\"black\" d=\"M167.59,-71.7C156.27,-62.99 142.36,-52.29 130.05,-42.82\"/>\n",
       "<polygon fill=\"black\" stroke=\"black\" points=\"132.27,-40.11 122.21,-36.79 128,-45.66 132.27,-40.11\"/>\n",
       "</g>\n",
       "<!-- 5 -->\n",
       "<g id=\"node6\" class=\"node\">\n",
       "<title>5</title>\n",
       "<ellipse fill=\"lightgreen\" stroke=\"black\" cx=\"282.08\" cy=\"-18\" rx=\"65.94\" ry=\"18\"/>\n",
       "<text text-anchor=\"middle\" x=\"282.08\" y=\"-13.32\" font-family=\"Times,serif\" font-size=\"14.00\">Production</text>\n",
       "</g>\n",
       "<!-- 3&#45;&gt;5 -->\n",
       "<g id=\"edge5\" class=\"edge\">\n",
       "<title>3&#45;&gt;5</title>\n",
       "<path fill=\"none\" stroke=\"black\" d=\"M212.83,-71.7C224.56,-62.77 239.03,-51.76 251.7,-42.11\"/>\n",
       "<polygon fill=\"black\" stroke=\"black\" points=\"253.51,-45.14 259.35,-36.3 249.27,-39.57 253.51,-45.14\"/>\n",
       "</g>\n",
       "</g>\n",
       "</svg>\n"
      ],
      "text/plain": [
       "<graphviz.graphs.Digraph at 0x77fb6815af30>"
      ]
     },
     "execution_count": 30,
     "metadata": {},
     "output_type": "execute_result"
    }
   ],
   "source": [
    "#| echo: false\n",
    "from graphviz import Digraph\n",
    "\n",
    "def create_graph(operation, graph=None, parent_id=None, node_counter=[0]):\n",
    "    \"\"\"Create graphviz visualization of operation tree\"\"\"\n",
    "    if graph is None:\n",
    "        graph = Digraph(comment='Formula Tree')\n",
    "        graph.attr(rankdir='TB')\n",
    "    \n",
    "    current_id = str(node_counter[0])\n",
    "    node_counter[0] += 1\n",
    "    \n",
    "    if isinstance(operation, Operation):\n",
    "        # Create node for operation\n",
    "        graph.node(current_id, operation.op_type, shape='box', style='filled', fillcolor='lightblue')\n",
    "        \n",
    "        if parent_id is not None:\n",
    "            graph.edge(parent_id, current_id)\n",
    "        \n",
    "        # Add child nodes\n",
    "        for operand in operation.operands:\n",
    "            create_graph(operand, graph, current_id, node_counter)\n",
    "    else:\n",
    "        # Leaf node (variable or constant)\n",
    "        color = 'lightgreen' if isinstance(operation, str) else 'lightyellow'\n",
    "        graph.node(current_id, str(operation), shape='ellipse', style='filled', fillcolor=color)\n",
    "        \n",
    "        if parent_id is not None:\n",
    "            graph.edge(parent_id, current_id)\n",
    "    \n",
    "    return graph\n",
    "\n",
    "# Create visualization for Gas cost\n",
    "gas_cost_graph = create_graph(parsed_formula)\n",
    "gas_cost_graph.render('gas_cost_tree', format='png', cleanup=True)\n",
    "gas_cost_graph"
   ]
  },
  {
   "cell_type": "markdown",
   "id": "1dcfc28b-14f0-4726-af85-48f35f7351e4",
   "metadata": {},
   "source": [
    "Now that we have some understanding on how `ast` works, let's start building towards our actual goal which is to translate parsed formulas into operations using our pandas dataframe. Instead of building from scratch, let's check if there are any libraries which already do what we need. One promising option is `formulas` library. Let's try it out."
   ]
  },
  {
   "cell_type": "code",
   "execution_count": 116,
   "id": "0e6eba0e-de9e-4eaf-b00a-fd70727fb0c3",
   "metadata": {},
   "outputs": [
    {
     "name": "stdout",
     "output_type": "stream",
     "text": [
      "Formula result: 176069.03803415288\n",
      "Expected: 176069.03803415288\n"
     ]
    }
   ],
   "source": [
    "import formulas\n",
    "test_formula = \"=Production*Netback_Price\"\n",
    "parsed = formulas.Parser().ast(test_formula)[1].compile()\n",
    "\n",
    "context = {\n",
    "    'PRODUCTION': mdl.loc['Production']['1Q 2032'],  # Test with one value first\n",
    "    'NETBACK_PRICE': mdl.loc['Netback Price']['1Q 2032']\n",
    "}\n",
    "result = parsed(**context)\n",
    "print(f\"Formula result: {result}\")\n",
    "print(f\"Expected: {mdl.loc['Revenue']['1Q 2032']}\")"
   ]
  },
  {
   "attachments": {},
   "cell_type": "markdown",
   "id": "80129e3f-c025-41d8-b67e-3379f91f9bef",
   "metadata": {},
   "source": [
    "Great, that worked. But unfortunately it runs like a `black box` and does not return the actual computations logic from the parsed formula. Maybe there is still a way to leverage `formulas` library for our purpose, but for now we will take a different approach.\n",
    "\n",
    "We will progress in small steps and start with a simple test formula. The main parts of the code are basically the same:\n",
    "\n",
    "* parse formula with `ast` keeping in mind naming conventions and\n",
    "* recursively convert parsed formula names to original names and map `ast.operation` to python operations"
   ]
  },
  {
   "cell_type": "code",
   "execution_count": 120,
   "id": "bbfec53b-7054-47bf-ad25-9e7570258dc8",
   "metadata": {},
   "outputs": [],
   "source": [
    "#| code-fold: true\n",
    "def parse_formula_to_pandas(formula_str, data_var='data'):\n",
    "    \"\"\"Convert 'Production*Netback Price' to '{data_var}.loc[\"Production\"] * {data_var}.loc[\"Netback Price\"]'\"\"\"\n",
    "    \n",
    "    # Replace spaces with underscores for parsing, but keep original names for lookup\n",
    "    formula_clean = formula_str.replace(' ', '_')\n",
    "    try:\n",
    "        tree = ast.parse(formula_clean, mode='eval')\n",
    "        return ast_to_pandas(tree.body, data_var)\n",
    "    except Exception as e:\n",
    "        print(f\"Parse error: {e}\")\n",
    "        return None\n",
    "\n",
    "def ast_to_pandas(node, data_var):\n",
    "    if isinstance(node, ast.Name):\n",
    "        # Convert variable name (with underscores) back to original (with spaces)\n",
    "        original_name = node.id.replace('_', ' ')\n",
    "        return f'{data_var}.loc[\"{original_name}\"]'\n",
    "    elif isinstance(node, ast.BinOp):\n",
    "        left = ast_to_pandas(node.left, data_var)\n",
    "        right = ast_to_pandas(node.right, data_var)\n",
    "        op = {ast.Add: '+', ast.Sub: '-', ast.Mult: '*', ast.Div: '/'}[type(node.op)]\n",
    "        return f'({left} {op} {right})'"
   ]
  },
  {
   "cell_type": "markdown",
   "id": "4363cd83-f3d4-44df-9100-ef75c05daa65",
   "metadata": {},
   "source": [
    "Now to test our function:"
   ]
  },
  {
   "cell_type": "code",
   "execution_count": 122,
   "id": "9b1e8cb4-e1b5-44ab-aa3c-975395b3629e",
   "metadata": {},
   "outputs": [
    {
     "name": "stdout",
     "output_type": "stream",
     "text": [
      "Generated code: (data.loc[\"Production\"] * data.loc[\"Netback Price\"])\n"
     ]
    }
   ],
   "source": [
    "formula = \"Production*Netback Price\"\n",
    "result = parse_formula_to_pandas(formula)\n",
    "print(f\"Generated code: {result}\")"
   ]
  },
  {
   "cell_type": "markdown",
   "id": "48319ef4-9cd0-4142-81c1-c0c4475301ae",
   "metadata": {},
   "source": [
    "Great, we got the expected result. Now let's test our function on other formulas"
   ]
  },
  {
   "cell_type": "code",
   "execution_count": 131,
   "id": "e0a99e2a-006f-4ad5-b76f-c75286f144e5",
   "metadata": {},
   "outputs": [
    {
     "name": "stdout",
     "output_type": "stream",
     "text": [
      "Testing formula parser:\n",
      "\n",
      "'Production*Netback Price' -> (data.loc[\"Production\"] * data.loc[\"Netback Price\"])\n",
      "\n",
      "'Gas cost+Catalysts cost+Personnel cost+Current repairs cost' -> (((data.loc[\"Gas cost\"] + data.loc[\"Catalysts cost\"]) + data.loc[\"Personnel cost\"]) + data.loc[\"Current repairs cost\"])\n",
      "\n",
      "'Revenue+Total Opex+Administrative cost' -> ((data.loc[\"Revenue\"] + data.loc[\"Total Opex\"]) + data.loc[\"Administrative cost\"])\n",
      "\n",
      "'EBITDA+Амортизация' -> (data.loc[\"EBITDA\"] + data.loc[\"Амортизация\"])\n",
      "\n",
      "'EBIT-Налог на EBIT' -> (data.loc[\"EBIT\"] - data.loc[\"Налог на EBIT\"])\n",
      "\n",
      "'-Gas consumption*Production*Gas price/Exchange rate/1000' -> ((((-data.loc[\"Gas consumption\"] * data.loc[\"Production\"]) * data.loc[\"Gas price\"]) / data.loc[\"Exchange rate\"]) / 1000)\n"
     ]
    }
   ],
   "source": [
    "test_formulas = [\n",
    "    \"Production*Netback Price\",\n",
    "    \"Gas cost+Catalysts cost+Personnel cost+Current repairs cost\", \n",
    "    \"Revenue+Total Opex+Administrative cost\",\n",
    "    \"EBITDA+Амортизация\",\n",
    "    \"EBIT-Налог на EBIT\",\n",
    "    \"-Gas consumption*Production*Gas price/Exchange rate/1000\"\n",
    "]\n",
    "\n",
    "print(\"Testing formula parser:\")\n",
    "for formula in test_formulas:\n",
    "    result = parse_formula_to_pandas(formula)\n",
    "    print(f\"\\n'{formula}' -> {result}\")"
   ]
  },
  {
   "cell_type": "markdown",
   "id": "f4c647b6-1ad8-4df6-a7e4-4c4a9dff1458",
   "metadata": {},
   "source": [
    "The last text example has failed because we need to account for unary minus operation (-Gas consumption) and for fixed values like 1000. Let's update our function"
   ]
  },
  {
   "cell_type": "code",
   "execution_count": 123,
   "id": "32593e22-2a80-4b95-92c5-95a154a43a1a",
   "metadata": {},
   "outputs": [],
   "source": [
    "#| code-fold: true\n",
    "def ast_to_pandas(node, data_var):\n",
    "    if isinstance(node, ast.Name):\n",
    "        # Convert variable name back to original (with spaces)\n",
    "        original_name = node.id.replace('_', ' ')\n",
    "        return f'{data_var}.loc[\"{original_name}\"]'\n",
    "    elif isinstance(node, ast.BinOp):\n",
    "        left = ast_to_pandas(node.left, data_var)\n",
    "        right = ast_to_pandas(node.right, data_var)\n",
    "        op = {ast.Add: '+', ast.Sub: '-', ast.Mult: '*', ast.Div: '/'}[type(node.op)]\n",
    "        return f'({left} {op} {right})'\n",
    "    elif isinstance(node, ast.UnaryOp):\n",
    "        if isinstance(node.op, ast.USub):\n",
    "            # Handle unary minus\n",
    "            operand = ast_to_pandas(node.operand, data_var)\n",
    "            return f'-{operand}'\n",
    "    elif isinstance(node, ast.Constant):\n",
    "        return str(node.value)\n",
    "    else:\n",
    "        return None"
   ]
  },
  {
   "cell_type": "code",
   "execution_count": 134,
   "id": "aa459c41-0221-4cc3-8bbf-78db9336733a",
   "metadata": {},
   "outputs": [
    {
     "name": "stdout",
     "output_type": "stream",
     "text": [
      "Testing formula parser:\n",
      "\n",
      "'-Gas consumption*Production*Gas price/Exchange rate/1000' -> ((((-data.loc[\"Gas consumption\"] * data.loc[\"Production\"]) * data.loc[\"Gas price\"]) / data.loc[\"Exchange rate\"]) / 1000)\n"
     ]
    }
   ],
   "source": [
    "#| echo: false\n",
    "print(\"Testing formula parser:\")\n",
    "formula = test_formulas[-1]\n",
    "result = parse_formula_to_pandas(formula)\n",
    "print(f\"\\n'{formula}' -> {result}\")"
   ]
  },
  {
   "cell_type": "markdown",
   "id": "32b5e81d-e627-4a9e-a066-27759e71d522",
   "metadata": {},
   "source": [
    "This is a good start, but we need to cover `If` statements as well, as they are very frequent in financial modelling. Once again, let's start with an example."
   ]
  },
  {
   "cell_type": "code",
   "execution_count": 136,
   "id": "1aa3d069-a745-4d94-8ffb-de05cb09f763",
   "metadata": {},
   "outputs": [
    {
     "name": "stdout",
     "output_type": "stream",
     "text": [
      "Expression(\n",
      "  body=Call(\n",
      "    func=Name(id='IF', ctx=Load()),\n",
      "    args=[\n",
      "      Compare(\n",
      "        left=Name(id='EBIT', ctx=Load()),\n",
      "        ops=[\n",
      "          Lt()],\n",
      "        comparators=[\n",
      "          Constant(value=0)]),\n",
      "      Constant(value=0),\n",
      "      BinOp(\n",
      "        left=Name(id='EBIT', ctx=Load()),\n",
      "        op=Mult(),\n",
      "        right=Name(id='Profit_Tax_Rate', ctx=Load()))],\n",
      "    keywords=[]))\n"
     ]
    }
   ],
   "source": [
    "formula = \"IF(EBIT<0,0,EBIT*Profit_Tax_Rate)\"\n",
    "tree = ast.parse(formula, mode='eval')\n",
    "print(ast.dump(tree, indent=2))"
   ]
  },
  {
   "cell_type": "markdown",
   "id": "dd108f50-dbca-4ecf-9620-af26cca7c8cf",
   "metadata": {},
   "source": [
    "We see that we also need to handle Lt() and Rt() operators in our code. Let's update it as follows."
   ]
  },
  {
   "cell_type": "code",
   "execution_count": 137,
   "id": "ae3330f0-1536-44b8-865c-3d07e8bac4f2",
   "metadata": {},
   "outputs": [
    {
     "data": {
      "text/plain": [
       "([<ast.Compare at 0x77fb6438b5d0>,\n",
       "  <ast.Constant at 0x77fb644a6890>,\n",
       "  <ast.BinOp at 0x77fb64388ed0>],\n",
       " [<ast.Constant at 0x77fb6438a350>])"
      ]
     },
     "execution_count": 137,
     "metadata": {},
     "output_type": "execute_result"
    }
   ],
   "source": [
    "#| echo: false\n",
    "tree.body.args, tree.body.args[0].comparators"
   ]
  },
  {
   "cell_type": "code",
   "execution_count": 138,
   "id": "26f27349-6797-4222-b79f-94adec6463ac",
   "metadata": {},
   "outputs": [],
   "source": [
    "#| code-fold: true\n",
    "def ast_to_pandas(node, data_var):\n",
    "    \n",
    "    if isinstance(node, ast.Name):\n",
    "        # Convert variable name back to original (with spaces)\n",
    "        original_name = node.id.replace('_', ' ')\n",
    "        return f'{data_var}.loc[\"{original_name}\"]'\n",
    "        \n",
    "    elif isinstance(node, ast.BinOp):\n",
    "        left = ast_to_pandas(node.left, data_var)\n",
    "        right = ast_to_pandas(node.right, data_var)\n",
    "        op = {ast.Add: '+', ast.Sub: '-', ast.Mult: '*', ast.Div: '/'}[type(node.op)]\n",
    "        return f'({left} {op} {right})'\n",
    "\n",
    "    elif isinstance(node, ast.Compare):\n",
    "        # Handle comparisons < >\n",
    "        comps = {ast.Lt: '<', ast.Gt: '>', ast.LtE: '<=', ast.GtE: '>=', ast.Eq: '==', ast.NotEq: '!='}\n",
    "        comparisons = []\n",
    "        left = ast_to_pandas(node.left, data_var)\n",
    "        for op, comp in zip(node.ops, node.comparators):\n",
    "            right = ast_to_pandas(comp, data_var)\n",
    "            op_str = comps[type(op)]\n",
    "            comparisons.append(f'{left} {op_str} {right}')\n",
    "        return f'({\" & \".join(comparisons)})'  # Use & for pandas boolean operations\n",
    "        \n",
    "    elif isinstance(node, ast.UnaryOp):\n",
    "        if isinstance(node.op, ast.USub):\n",
    "            # Handle unary minus\n",
    "            operand = ast_to_pandas(node.operand, data_var)\n",
    "            return f'-{operand}'\n",
    "            \n",
    "    elif isinstance(node, ast.Constant):\n",
    "        return str(node.value)\n",
    "        \n",
    "    elif isinstance(node, ast.Call):\n",
    "        # Handle function calls like IF, XIRR\n",
    "        func_name = node.func.id\n",
    "        args = [ast_to_pandas(arg, data_var) for arg in node.args]\n",
    "        \n",
    "        if func_name == 'IF':\n",
    "            return f'np.where({args[0]}, {args[1]}, {args[2]})'\n",
    "        elif func_name == 'XIRR':\n",
    "            # XIRR(values, dates, guess) - Excel syntax\n",
    "            return f'pyxirr.xirr({args[1]}, {args[0]})'\n",
    "        else:\n",
    "            return f'{func_name.lower()}({\", \".join(args)})'\n",
    "    else:\n",
    "        return None"
   ]
  },
  {
   "cell_type": "markdown",
   "id": "ae87f6c0-3955-4a1d-bb55-4fbf78cce11c",
   "metadata": {},
   "source": [
    "Let's give our new function a go on a conditional formula"
   ]
  },
  {
   "cell_type": "code",
   "execution_count": 148,
   "id": "427cf163-096a-45fe-b3ad-9d175c173c6e",
   "metadata": {},
   "outputs": [
    {
     "name": "stdout",
     "output_type": "stream",
     "text": [
      "IF test: np.where((data.loc[\"EBIT\"] < 0), 0, (data.loc[\"EBIT\"] * data.loc[\"Profit Tax Rate\"]))\n"
     ]
    }
   ],
   "source": [
    "test_if = \"IF(EBIT<0,0,EBIT*Profit_Tax_Rate)\"\n",
    "result = parse_formula_to_pandas(test_if)\n",
    "print(f\"IF test: {result}\")"
   ]
  },
  {
   "cell_type": "markdown",
   "id": "7e2023fe-8327-4563-b0d7-6d8de20b019d",
   "metadata": {},
   "source": [
    "The formula is correct. Now to actually run it we just need to call `eval` and pass correct globals and locals."
   ]
  },
  {
   "cell_type": "code",
   "execution_count": 150,
   "id": "53be2500-8261-493e-be11-126f78644f26",
   "metadata": {},
   "outputs": [
    {
     "data": {
      "text/plain": [
       "array([10701.764119534519, 10148.518734672218, 10768.607427076844, 10766.793295938105, 11087.418260043143], dtype=object)"
      ]
     },
     "execution_count": 150,
     "metadata": {},
     "output_type": "execute_result"
    }
   ],
   "source": [
    "eval(result, {\"np\": np, \"pyxirr\": pyxirr, \"__builtins__\": {}},  {'data': data})[50:55]"
   ]
  },
  {
   "cell_type": "markdown",
   "id": "2ab7557a-6ac9-42f5-a0d0-155b50ffebf1",
   "metadata": {},
   "source": [
    "Let's also run an IRR test"
   ]
  },
  {
   "cell_type": "code",
   "execution_count": 153,
   "id": "f0104325-a6cb-4c5f-a68e-62ab962d5853",
   "metadata": {},
   "outputs": [
    {
     "name": "stdout",
     "output_type": "stream",
     "text": [
      "IRR test: pyxirr.xirr(data.loc[\"Timeline\"], data.loc[\"Итого FCFF\"])\n"
     ]
    },
    {
     "data": {
      "text/plain": [
       "0.1484471533203125"
      ]
     },
     "execution_count": 153,
     "metadata": {},
     "output_type": "execute_result"
    }
   ],
   "source": [
    "test_xirr = \"XIRR(Итого FCFF,Timeline,0)\"\n",
    "result = parse_formula_to_pandas(test_xirr)\n",
    "print(f\"IRR test: {result}\")\n",
    "data.loc['IRR'].iloc[0]"
   ]
  },
  {
   "cell_type": "markdown",
   "id": "e9ac5035-3a33-4852-9936-00391ce3fa95",
   "metadata": {},
   "source": [
    "Let's recap what we have achieved up till now.\n",
    "\n",
    "**Initial Goal:**\n",
    "Convert an Excel financial model into a Python calculation engine by translating text formula descriptions (like \"Production*Netback Price\") into executable pandas operations (like `mdl.loc['Production'] * mdl.loc['Netback Price']`).\n",
    "\n",
    "**Steps Taken So Far:**\n",
    "\n",
    "1. **Data Loading & Exploration:** Loaded Excel file into pandas DataFrame `mdl` with formulas in the 'Formula' column\n",
    "\n",
    "2. **Library Evaluation:** Tested `formulas` library but found it created a \"black box\" - we wanted to extract the actual computational logic, not just execute it\n",
    "\n",
    "3. **Custom AST Parser:** Built a parser using Python's `ast` module to convert formula strings into pandas code:\n",
    "   - Handles basic operations: `+`, `-`, `*`, `/`\n",
    "   - Handles unary minus: `-Gas consumption`\n",
    "   - Handles numbers: `1000`\n",
    "   - Handles comparisons: `EBIT < 0`\n",
    "   - Handles Excel functions: `IF()` → `np.where()`, `XIRR()` → `pyxirr.xirr()`\n",
    "<br><br>\n",
    "4. **Execution Engine:** Created `execute_formula()` function to run the generated pandas code strings using `eval()`\n",
    "\n",
    "5. **Testing:** Successfully tested with formulas like and verified results match original Excel calculations\n",
    "\n",
    "**Current Status:** We have a working system that can parse different Excel formulas and convert them to executable pandas operations. Next steps would be handling more complex cases and building a complete calculation engine."
   ]
  }
 ],
 "metadata": {
  "kernelspec": {
   "display_name": "Python 3 (ipykernel)",
   "language": "python",
   "name": "python3"
  },
  "language_info": {
   "codemirror_mode": {
    "name": "ipython",
    "version": 3
   },
   "file_extension": ".py",
   "mimetype": "text/x-python",
   "name": "python",
   "nbconvert_exporter": "python",
   "pygments_lexer": "ipython3",
   "version": "3.12.8"
  }
 },
 "nbformat": 4,
 "nbformat_minor": 5
}
