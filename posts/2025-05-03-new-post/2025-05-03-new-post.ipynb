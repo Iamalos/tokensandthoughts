{
 "cells": [
  {
   "cell_type": "raw",
   "id": "6926c9b4-f197-4cb8-85fe-e96c48e3f613",
   "metadata": {},
   "source": [
    "---\n",
    "title: New Post (ID)\n",
    "data: 2025-05-03\n",
    "description: A nice new post about book\n",
    "categories: [books]\n",
    "format:\n",
    "    html:\n",
    "        code-fold: true\n",
    "        code-summary: \"Show code\"\n",
    "        echo: true\n",
    "        cell-output-fold: true\n",
    "        cell-output-summary: \"Show output\"\n",
    "---"
   ]
  },
  {
   "cell_type": "markdown",
   "id": "29bc4722-8d1a-4ca7-95df-fd4fdfb77ee5",
   "metadata": {},
   "source": [
    "## A nice heading \n",
    "\n",
    "Here is some lovely text and an equation\n",
    "$$ a^2 + b^2 = c^2 $$\n",
    "\n",
    "Here is a list \n",
    "- a link to an [external website] (https://quarto.org)\n",
    "- a link to [another post in this blog](/posts/welcome/index.qmd).\n"
   ]
  },
  {
   "cell_type": "code",
   "execution_count": 1,
   "id": "4111578c-1662-4bd1-8a38-49240d97746c",
   "metadata": {},
   "outputs": [
    {
     "name": "stdout",
     "output_type": "stream",
     "text": [
      "Hello, Quarto!\n"
     ]
    }
   ],
   "source": [
    "print('Hello, Quarto!')"
   ]
  },
  {
   "cell_type": "code",
   "execution_count": 4,
   "id": "d88cb10a-148c-4633-b560-b94b68479fb3",
   "metadata": {},
   "outputs": [
    {
     "data": {
      "image/png": "[encoded data removed]",
      "text/plain": [
       "<Figure size 640x480 with 1 Axes>"
      ]
     },
     "metadata": {},
     "output_type": "display_data"
    }
   ],
   "source": [
    "# | fig-cap: This is my lovely line plot\n",
    "# | fig-alt: A line plot extending up and to the right\n",
    "#| echo: false\n",
    "import numpy as np\n",
    "import matplotlib.pyplot as plt\n",
    "\n",
    "x = np.arange(10)\n",
    "y = 2 * x + 1\n",
    "plt.plot(x, y);"
   ]
  },
  {
   "cell_type": "markdown",
   "id": "e4dab391-009f-4655-bed3-ab46a189ba66",
   "metadata": {},
   "source": [
    "This is extra ~font~"
   ]
  },
  {
   "cell_type": "markdown",
   "id": "872b2959-cb51-4165-a339-b0f61e105c6d",
   "metadata": {},
   "source": [
    "## Data preparation"
   ]
  },
  {
   "cell_type": "code",
   "execution_count": 56,
   "id": "8a9d3c44-6e1c-46c8-82bf-39703740bd9b",
   "metadata": {},
   "outputs": [],
   "source": [
    "#| echo: false\n",
    "from httpx import get as hget\n",
    "import torch\n",
    "import torch.nn as nn\n",
    "from torch.nn import functional as F\n",
    "torch.set_printoptions(linewidth=150)"
   ]
  },
  {
   "cell_type": "code",
   "execution_count": 57,
   "id": "d4fd3341-5e9f-4030-9074-693a59b4b3e1",
   "metadata": {},
   "outputs": [],
   "source": [
    "#| echo: false\n",
    "batch_size = 64 # 32 how many independent sequences will be processed in parallel\n",
    "block_size = 256 # 8 maximum context length for predictions\n",
    "max_iters = 5_000\n",
    "eval_interval = 500\n",
    "lr = 3e-4\n",
    "device = 'cuda' if torch.cuda.is_available() else 'cpu'\n",
    "eval_iters = 200\n",
    "n_embd = 384\n",
    "n_heads = 6 # 384 // 6 ---> every head is 64 dimensional\n",
    "n_layer = 6\n",
    "dropout = 0.2\n",
    "# ---------\n",
    "torch.manual_seed(1337);"
   ]
  },
  {
   "cell_type": "markdown",
   "id": "28f76c02-7bdf-4d4d-ae68-5e643929513d",
   "metadata": {},
   "source": [
    "This is a simple introduction to Transformers architecture following Andrej Karpathy excellent video series on [makemore](www.youtube.com). The post will follow lectuire \n",
    "\n",
    "Here we download sample dataset of Tiny Shakespeare dataset, which is a collection of all Shakespeare texts. The size is approximately 1 mln characters"
   ]
  },
  {
   "cell_type": "code",
   "execution_count": 53,
   "id": "127d36ba-6166-429b-b2cc-fad34366e233",
   "metadata": {},
   "outputs": [],
   "source": [
    "f = hget(\"https://raw.githubusercontent.com/karpathy/ng-video-lecture/refs/heads/master/input.txt\")\n",
    "text = f.text"
   ]
  },
  {
   "cell_type": "code",
   "execution_count": 54,
   "id": "de9d3570-bde6-4c59-9717-b7589cfa6482",
   "metadata": {
    "scrolled": true
   },
   "outputs": [
    {
     "name": "stdout",
     "output_type": "stream",
     "text": [
      "length of dataset in characters:  1115394\n"
     ]
    },
    {
     "data": {
      "text/html": [
       "<details><summary>Click to show output</summary><pre>First Citizen:\n",
       "Before we proceed any further, hear me speak.\n",
       "\n",
       "All:\n",
       "Speak, speak.\n",
       "\n",
       "First Citizen:\n",
       "You are all resolved rather to die than to famish?\n",
       "\n",
       "All:\n",
       "Resolved. resolved.\n",
       "\n",
       "First Citizen:\n",
       "First, you know Caius Marcius is chief enemy to the people.\n",
       "\n",
       "All:\n",
       "We know't, we know't.\n",
       "\n",
       "First Citizen:\n",
       "Let us</pre></details>"
      ],
      "text/plain": [
       "<IPython.core.display.HTML object>"
      ]
     },
     "metadata": {},
     "output_type": "display_data"
    }
   ],
   "source": [
    "#| echo: false\n",
    "from IPython.display import display, HTML\n",
    "print(\"length of dataset in characters: \", len(text))\n",
    "html = f\"<details><summary>Click to show output</summary><pre>{text[:300]}</pre></details>\"\n",
    "display(HTML(html))\n"
   ]
  },
  {
   "cell_type": "code",
   "execution_count": 52,
   "id": "f816653e-0be2-40d8-b741-5b1fbfa55ef0",
   "metadata": {},
   "outputs": [
    {
     "name": "stdout",
     "output_type": "stream",
     "text": [
      "Unique characters in the dataset: \n",
      " !$&',-.3:;?ABCDEFGHIJKLMNOPQRSTUVWXYZabcdefghijklmnopqrstuvwxyz\n",
      "vocab_size=65\n"
     ]
    }
   ],
   "source": [
    "chars = sorted(list(set(text)))\n",
    "vocab_size = len(chars)\n",
    "print(\"Unique characters in the dataset:\", ''.join(chars))\n",
    "print(f\"{vocab_size=}\")"
   ]
  },
  {
   "cell_type": "markdown",
   "id": "fd58079a-05d8-45e9-b89b-84eb49917b95",
   "metadata": {},
   "source": [
    "Models work numbers, so let's create a mapping from characters to integers: encoder and decoder. Here we use a very simple encoder-decoder (tokenizer) by simply tokenizing each character by using their position. See tiktoken (used by OpenAI)"
   ]
  },
  {
   "cell_type": "code",
   "execution_count": 42,
   "id": "3aecfaec-51a5-4683-90ff-345d90d4cd5e",
   "metadata": {},
   "outputs": [
    {
     "name": "stdout",
     "output_type": "stream",
     "text": [
      "[46, 47, 47, 1, 58, 46, 43, 56, 43]\n",
      "hii there\n"
     ]
    }
   ],
   "source": [
    "stoi = {ch:i for i,ch in enumerate(chars)}\n",
    "itos = {i:ch for ch, i in stoi.items()}\n",
    "encode = lambda s: [stoi[c] for c in s] # encoder: take a string and output a list of integers\n",
    "decode = lambda l: ''.join((itos[o] for o in l) )# decoder: take a list of integers and output a string\n",
    "print(encode(\"hii there\"))\n",
    "print(decode(encode(\"hii there\")))"
   ]
  },
  {
   "cell_type": "markdown",
   "id": "9aa4e344-71dc-48d1-8681-f17eff483001",
   "metadata": {},
   "source": [
    "Let's encode the whole text dataset and store it into a torch.Tensor data. Currently data is simply a tensor stretched in a row. We also split our data into training (90% of the data) and validation (10% of the data) sets to calculate accuracy of our model and avoid overfitting. Without testing the model on a hold-out validation set we risk our model just memorizing the whole training set and having no actual predictive / creative power."
   ]
  },
  {
   "cell_type": "code",
   "execution_count": 61,
   "id": "d71c499b-7b43-4c78-a919-71ca32a78561",
   "metadata": {},
   "outputs": [
    {
     "name": "stdout",
     "output_type": "stream",
     "text": [
      "torch.Size([1115394]) torch.int64\n",
      "tensor([18, 47, 56, 57, 58,  1, 15, 47, 58, 47, 64, 43, 52, 10,  0, 14, 43, 44, 53, 56, 43,  1, 61, 43,  1, 54, 56, 53, 41, 43, 43, 42,  1, 39, 52,\n",
      "        63,  1, 44, 59, 56, 58, 46, 43, 56,  6,  1, 46, 43, 39, 56,  1, 51, 43,  1, 57, 54, 43, 39, 49,  8,  0,  0, 13, 50, 50, 10,  0, 31, 54, 43,\n",
      "        39, 49,  6,  1, 57, 54, 43, 39, 49,  8,  0,  0, 18, 47, 56, 57, 58,  1, 15, 47, 58, 47, 64, 43, 52, 10,  0, 37, 53, 59])\n"
     ]
    }
   ],
   "source": [
    "data = torch.tensor(encode(text), dtype=torch.long)\n",
    "print(data.shape, data.dtype)\n",
    "print(data[:100]) # the 1000 characters we looked at earlier will look to GPT like this)"
   ]
  },
  {
   "cell_type": "code",
   "execution_count": 62,
   "id": "da1752d9-503c-46c5-8ff3-fb7f37f8ac93",
   "metadata": {},
   "outputs": [
    {
     "name": "stdout",
     "output_type": "stream",
     "text": [
      "1003854\n",
      "111540\n"
     ]
    }
   ],
   "source": [
    "n = int(0.9*len(data)) # first 90% will be train, rest val\n",
    "train_data = data[:n]\n",
    "val_data = data[n:]\n",
    "print(len(train_data))\n",
    "print(len(val_data))"
   ]
  },
  {
   "cell_type": "markdown",
   "id": "1dbd847f-5ff4-4d5f-8171-d66665b60cd9",
   "metadata": {},
   "source": [
    "We will pass data (Shakespeare texts) into transformer model using batches because feeding the whole text at once will be computationally prohibitive. The idea is to pass random blocks (sequence) of text into a model and train it on predicting the next character. We can illustrate it below. In each sequence we train transformer model on context size from 1 to block_size. This allows the model to see different contexts in predicting the next character in a sequence. In generating text the model starts with a context on 1 and then it will predict up to a block_size characters and then just truncate because it is limited by the context of block_size."
   ]
  },
  {
   "cell_type": "code",
   "execution_count": 63,
   "id": "f343bf3d-390a-4df6-be74-b8266f7d4e05",
   "metadata": {},
   "outputs": [
    {
     "name": "stdout",
     "output_type": "stream",
     "text": [
      "When input is tensor([18]) the target : 47\n",
      "When input is tensor([18, 47]) the target : 56\n",
      "When input is tensor([18, 47, 56]) the target : 57\n",
      "When input is tensor([18, 47, 56, 57]) the target : 58\n",
      "When input is tensor([18, 47, 56, 57, 58]) the target : 1\n",
      "When input is tensor([18, 47, 56, 57, 58,  1]) the target : 15\n",
      "When input is tensor([18, 47, 56, 57, 58,  1, 15]) the target : 47\n",
      "When input is tensor([18, 47, 56, 57, 58,  1, 15, 47]) the target : 58\n"
     ]
    }
   ],
   "source": [
    "block_sz = 8 # context length\n",
    "x = train_data[:block_sz]\n",
    "y = train_data[1:block_sz+1]\n",
    "for t in  range(block_sz):\n",
    "    context = x[:t+1]\n",
    "    target = y[t]\n",
    "    print(f\"When input is {context} the target : {target}\")"
   ]
  },
  {
   "cell_type": "markdown",
   "id": "2a452d0f-af64-400a-9d05-13edf23ab8b0",
   "metadata": {},
   "source": [
    "We want to utilize GPU's power of parallel calculations and feed multiple sequences in a batch."
   ]
  },
  {
   "cell_type": "code",
   "execution_count": 73,
   "id": "741edbe0-ce1a-46f3-a43e-501a3d804e70",
   "metadata": {},
   "outputs": [],
   "source": [
    "def get_batch(split):\n",
    "    # generate a small batch of data of inputs x and targets y\n",
    "    data = train_data if split == \"train\" else val_data\n",
    "    ix = torch.randint(0, len(data)-block_size, (batch_size,)) # random offsets\n",
    "    x = torch.stack([data[i:i+block_size] for i in ix])\n",
    "    y = torch.stack([data[i+1:i+block_size+1] for i in ix])\n",
    "    x,y = x.to(device), y.to(device)\n",
    "    return x, y"
   ]
  },
  {
   "cell_type": "code",
   "execution_count": 74,
   "id": "80beb692-c826-4757-a392-7e1c27ddf71b",
   "metadata": {},
   "outputs": [
    {
     "name": "stdout",
     "output_type": "stream",
     "text": [
      "inputs:\n",
      "torch.Size([4, 8])\n",
      "tensor([[24, 43, 58,  5, 57,  1, 46, 43],\n",
      "        [44, 53, 56,  1, 58, 46, 39, 58],\n",
      "        [52, 58,  1, 58, 46, 39, 58,  1],\n",
      "        [25, 17, 27, 10,  0, 21,  1, 54]], device='cuda:0') \n",
      "\n",
      "targets:\n",
      "torch.Size([4, 8])\n",
      "tensor([[43, 58,  5, 57,  1, 46, 43, 39],\n",
      "        [53, 56,  1, 58, 46, 39, 58,  1],\n",
      "        [58,  1, 58, 46, 39, 58,  1, 46],\n",
      "        [17, 27, 10,  0, 21,  1, 54, 39]], device='cuda:0')\n"
     ]
    }
   ],
   "source": [
    "torch.manual_seed(1337)\n",
    "batch_size = 4 # number of independent sequences we process in parallel\n",
    "block_size = 8 # maximum context length for predictions\n",
    "xb, yb = get_batch('train')\n",
    "\n",
    "print('inputs:')\n",
    "print(xb.shape)\n",
    "print(xb,'\\n')\n",
    "print('targets:')\n",
    "print(yb.shape)\n",
    "print(yb)"
   ]
  },
  {
   "cell_type": "code",
   "execution_count": 76,
   "id": "8c29ea8a-88a9-4fe1-be61-ffd4d0fff830",
   "metadata": {},
   "outputs": [
    {
     "data": {
      "text/html": [
       "<details><summary>Click to show output</summary><pre>When input is [24] the target : 43\n",
       "When input is [24, 43] the target : 58\n",
       "When input is [24, 43, 58] the target : 5\n",
       "When input is [24, 43, 58, 5] the target : 57\n",
       "When input is [24, 43, 58, 5, 57] the target : 1\n",
       "When input is [24, 43, 58, 5, 57, 1] the target : 46\n",
       "When input is [24, 43, 58, 5, 57, 1, 46] the target : 43\n",
       "When input is [24, 43, 58, 5, 57, 1, 46, 43] the target : 39\n",
       "When input is [44] the target : 53\n",
       "When input is [44, 53] the target : 56\n",
       "When input is [44, 53, 56] the target : 1\n",
       "When input is [44, 53, 56, 1] the target : 58\n",
       "When input is [44, 53, 56, 1, 58] the target : 46\n",
       "When input is [44, 53, 56, 1, 58, 46] the target : 39\n",
       "When input is [44, 53, 56, 1, 58, 46, 39] the target : 58\n",
       "When input is [44, 53, 56, 1, 58, 46, 39, 58] the target : 1\n",
       "When input is [52] the target : 58\n",
       "When input is [52, 58] the target : 1\n",
       "When input is [52, 58, 1] the target : 58\n",
       "When input is [52, 58, 1, 58] the target : 46\n",
       "When input is [52, 58, 1, 58, 46] the target : 39\n",
       "When input is [52, 58, 1, 58, 46, 39] the target : 58\n",
       "When input is [52, 58, 1, 58, 46, 39, 58] the target : 1\n",
       "When input is [52, 58, 1, 58, 46, 39, 58, 1] the target : 46\n",
       "When input is [25] the target : 17\n",
       "When input is [25, 17] the target : 27\n",
       "When input is [25, 17, 27] the target : 10\n",
       "When input is [25, 17, 27, 10] the target : 0\n",
       "When input is [25, 17, 27, 10, 0] the target : 21\n",
       "When input is [25, 17, 27, 10, 0, 21] the target : 1\n",
       "When input is [25, 17, 27, 10, 0, 21, 1] the target : 54\n",
       "When input is [25, 17, 27, 10, 0, 21, 1, 54] the target : 39\n",
       "</pre></details>"
      ],
      "text/plain": [
       "<IPython.core.display.HTML object>"
      ]
     },
     "metadata": {},
     "output_type": "display_data"
    }
   ],
   "source": [
    "# echo:false\n",
    "output = \"\"\n",
    "for b in range(batch_size):\n",
    "    for t in range(block_size):\n",
    "        context = xb[b,:t+1]\n",
    "        target = yb[b,t]\n",
    "        output += f\"When input is {context.tolist()} the target : {target}\\n\"\n",
    "html = f\"<details><summary>Click to show output</summary><pre>{output}</pre></details>\"\n",
    "display(HTML(html))"
   ]
  },
  {
   "cell_type": "markdown",
   "id": "01001880-d915-4300-9ddb-b9f86d102499",
   "metadata": {},
   "source": [
    "So each batch of 4 random sequences yields 32 examples (4 * 8) that will be fed into a neural net."
   ]
  },
  {
   "cell_type": "code",
   "execution_count": 77,
   "id": "4ad3dcfd-d578-42fc-98f4-3aafb785f238",
   "metadata": {},
   "outputs": [
    {
     "name": "stdout",
     "output_type": "stream",
     "text": [
      "tensor([[24, 43, 58,  5, 57,  1, 46, 43],\n",
      "        [44, 53, 56,  1, 58, 46, 39, 58],\n",
      "        [52, 58,  1, 58, 46, 39, 58,  1],\n",
      "        [25, 17, 27, 10,  0, 21,  1, 54]], device='cuda:0')\n"
     ]
    }
   ],
   "source": [
    "print(xb)"
   ]
  },
  {
   "cell_type": "markdown",
   "id": "510fc868-0e1c-4be6-baaf-68a6403ec858",
   "metadata": {},
   "source": [
    "Let's create a function to estimate average loss across a number of batches `eval_iters`. That allows us to have a more smooth curve."
   ]
  },
  {
   "cell_type": "code",
   "execution_count": 78,
   "id": "2f542b72-b52f-483e-9e00-5da199c6158b",
   "metadata": {},
   "outputs": [],
   "source": [
    "@torch.no_grad()\n",
    "def estimate_loss():\n",
    "    out = {}\n",
    "    model.eval()\n",
    "    for split in ['train', 'val']:\n",
    "        losses = torch.zeros(eval_iters)\n",
    "        for k in range(eval_iters):\n",
    "            X, Y = get_batch(split)\n",
    "            logits, loss = model(X, Y)\n",
    "            losses[k] = loss.item()\n",
    "        out[split] = losses.mean()\n",
    "    model.train()\n",
    "    return out"
   ]
  },
  {
   "cell_type": "markdown",
   "id": "b9511022-1a9e-486a-9faa-0e9b6c7bc1de",
   "metadata": {},
   "source": [
    "## Baseline model Bigram model"
   ]
  },
  {
   "cell_type": "markdown",
   "id": "949863a4-fee9-4217-91ec-cb88395c4a86",
   "metadata": {},
   "source": [
    "Let's implement the simplest language model - Bigram Language Model. Each token is embedded in a vocab_size vector, so our batch of size (B,T) becomes (B,T,C), where C stands for channels and is vocab_size in our example. Those channels are treated as logits (scored) in predicting the next character based on the individual identity of the current token, because there is no interaction between current token and previous ones. Tokesn don't talk to each other and there is no context."
   ]
  },
  {
   "cell_type": "code",
   "execution_count": null,
   "id": "e5a5425b-2329-4450-9a23-d5a83978ea27",
   "metadata": {},
   "outputs": [],
   "source": []
  },
  {
   "cell_type": "code",
   "execution_count": null,
   "id": "73b0a7c4-c8f5-45fe-8369-ca40b3658790",
   "metadata": {},
   "outputs": [],
   "source": []
  },
  {
   "cell_type": "code",
   "execution_count": null,
   "id": "5ce76a82-ac0e-46b6-ad8b-d6d63ebb24b9",
   "metadata": {},
   "outputs": [],
   "source": []
  },
  {
   "cell_type": "code",
   "execution_count": null,
   "id": "480cd105-e020-4db9-982e-fb5068af0900",
   "metadata": {},
   "outputs": [],
   "source": []
  },
  {
   "cell_type": "code",
   "execution_count": null,
   "id": "ebbd27fc-5a1e-49b2-aff5-a326f399f7d6",
   "metadata": {},
   "outputs": [],
   "source": []
  },
  {
   "cell_type": "code",
   "execution_count": null,
   "id": "911f5eaf-9dbd-48a6-a440-47e1cfa08b42",
   "metadata": {},
   "outputs": [],
   "source": []
  },
  {
   "cell_type": "markdown",
   "id": "75903074-a927-4926-aee5-c872f26bde14",
   "metadata": {},
   "source": [
    "## Mathematical Trick in Self-Attention"
   ]
  },
  {
   "cell_type": "markdown",
   "id": "ef72bcdb-6d37-43a7-9dd6-062ad2b434ea",
   "metadata": {},
   "source": [
    "We want our tokens to have a way of communicating with each other. The simplest way to achieve that, it to average channels corresponding to the previous tokens. Note that we want each token to be able to communicate only with the past, not the future."
   ]
  },
  {
   "cell_type": "code",
   "execution_count": null,
   "id": "c1cb3c75-47c9-44f4-95df-038407abeaa1",
   "metadata": {},
   "outputs": [],
   "source": []
  },
  {
   "cell_type": "code",
   "execution_count": null,
   "id": "777a7820-3e2d-4246-bc3c-5a530677ebd3",
   "metadata": {},
   "outputs": [],
   "source": []
  },
  {
   "cell_type": "code",
   "execution_count": null,
   "id": "2685948b-e441-4307-b8fb-add26ed44711",
   "metadata": {},
   "outputs": [],
   "source": []
  },
  {
   "cell_type": "code",
   "execution_count": null,
   "id": "3cfb5bad-2312-417a-840b-efb4dbf0b3c6",
   "metadata": {},
   "outputs": [],
   "source": []
  },
  {
   "cell_type": "code",
   "execution_count": null,
   "id": "0e1025a5-f060-40e9-a984-ae3f8db9ac86",
   "metadata": {},
   "outputs": [],
   "source": []
  },
  {
   "cell_type": "code",
   "execution_count": null,
   "id": "c45f532c-2899-4107-ac8a-199ecc9bdb1f",
   "metadata": {},
   "outputs": [],
   "source": []
  },
  {
   "cell_type": "code",
   "execution_count": null,
   "id": "a5474282-9b0c-4b2f-9363-58644e6b5b4c",
   "metadata": {},
   "outputs": [],
   "source": []
  },
  {
   "cell_type": "code",
   "execution_count": null,
   "id": "2ac08ec4-d046-4573-abf4-f8fd731b12c4",
   "metadata": {},
   "outputs": [],
   "source": []
  },
  {
   "cell_type": "code",
   "execution_count": null,
   "id": "ee44d58a-1f8d-481e-9e47-3338161e2d3b",
   "metadata": {},
   "outputs": [],
   "source": []
  },
  {
   "cell_type": "code",
   "execution_count": null,
   "id": "632d1085-40d4-45b6-b0fc-25c0ed4eaea7",
   "metadata": {},
   "outputs": [],
   "source": []
  }
 ],
 "metadata": {
  "kernelspec": {
   "display_name": "Python 3 (ipykernel)",
   "language": "python",
   "name": "python3"
  },
  "language_info": {
   "codemirror_mode": {
    "name": "ipython",
    "version": 3
   },
   "file_extension": ".py",
   "mimetype": "text/x-python",
   "name": "python",
   "nbconvert_exporter": "python",
   "pygments_lexer": "ipython3",
   "version": "3.12.8"
  }
 },
 "nbformat": 4,
 "nbformat_minor": 5
}
