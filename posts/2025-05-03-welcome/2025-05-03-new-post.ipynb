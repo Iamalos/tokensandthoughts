{
 "cells": [
  {
   "cell_type": "raw",
   "id": "91e07e9b-3d16-4477-babc-e5f04430f66b",
   "metadata": {},
   "source": [
    "---\n",
    "title: Welcome\n",
    "author: Ivan\n",
    "date: 2025-05-03\n",
    "categories: [nonsense]\n",
    "tags: [python, deep-learning, books]\n",
    "description: Welcome post\n",
    "toc: true\n",
    "toc-depth: 2\n",
    "description: \"Introduction to Tokens & Thoughts, a blog exploring code, deep learning, and reflections on books.\"\n",
    "image: \"blog-image.png\" \n",
    "---"
   ]
  },
  {
   "cell_type": "markdown",
   "id": "91520aa4-d392-4980-9f71-08b326546131",
   "metadata": {},
   "source": [
    "# Why Tokens, Why Thoughts?"
   ]
  },
  {
   "cell_type": "markdown",
   "id": "ba1d8db8-aeb4-4c06-9f75-a14ccea00e92",
   "metadata": {},
   "source": [
    "Welcome to __Tokens & Thoughts__, my personal blog focused on coding, learning, and occasional reflections on intriguing reads."
   ]
  },
  {
   "cell_type": "markdown",
   "id": "1c7470b3-47ad-470b-b77c-79ac564ee71f",
   "metadata": {},
   "source": [
    "### What's in a Name?"
   ]
  },
  {
   "cell_type": "markdown",
   "id": "1659938d-f38e-4064-a203-c28cfc675d91",
   "metadata": {},
   "source": [
    "__Tokens__ — little units of meaning in programming and language. Each piece of code, each concept, each book I explore breaks down into smaller tokens of understanding.\n",
    "\n",
    "__Thoughts__ — the space where these tokens come together, combine, and interact. Writing is my way to deepen this interaction and solidify learning."
   ]
  },
  {
   "cell_type": "markdown",
   "id": "0b61e437-bcd8-4059-8a7c-1cd67258d048",
   "metadata": {},
   "source": [
    "### What to Expect"
   ]
  },
  {
   "cell_type": "markdown",
   "id": "dbafc211-8da4-4f10-82bd-b565a91091f0",
   "metadata": {},
   "source": [
    "I'll share Python snippets and useful solutions, dive into deep learning concepts that puzzle or excite me, and reflect on some books that I find interesting for myself. This blog isn't a how-to guide; it's more of an exploration, a documentation of my own growth and curiosity."
   ]
  },
  {
   "cell_type": "markdown",
   "id": "d3ca273c-bbcc-4a47-935d-59e46a863b99",
   "metadata": {},
   "source": [
    "Thanks for stopping by. I hope you'll find a token or a thought worth carrying forward."
   ]
  },
  {
   "cell_type": "markdown",
   "id": "f2a56e58-740f-42fe-8ca1-21ba441f146f",
   "metadata": {},
   "source": []
  },
  {
   "cell_type": "markdown",
   "id": "075b3373-572b-414c-a05e-c11ca47e950b",
   "metadata": {},
   "source": []
  },
  {
   "cell_type": "markdown",
   "id": "a95ed5ae-6f50-4a54-aa96-37e41764855c",
   "metadata": {},
   "source": []
  },
  {
   "cell_type": "markdown",
   "id": "5cebd09e-bdce-4e93-9eca-86285057a7f7",
   "metadata": {},
   "source": []
  },
  {
   "cell_type": "markdown",
   "id": "567a8bf3-13cb-459b-91ca-6597689cf72f",
   "metadata": {},
   "source": []
  }
 ],
 "metadata": {
  "kernelspec": {
   "display_name": "Python 3 (ipykernel)",
   "language": "python",
   "name": "python3"
  },
  "language_info": {
   "codemirror_mode": {
    "name": "ipython",
    "version": 3
   },
   "file_extension": ".py",
   "mimetype": "text/x-python",
   "name": "python",
   "nbconvert_exporter": "python",
   "pygments_lexer": "ipython3",
   "version": "3.12.8"
  }
 },
 "nbformat": 4,
 "nbformat_minor": 5
}
