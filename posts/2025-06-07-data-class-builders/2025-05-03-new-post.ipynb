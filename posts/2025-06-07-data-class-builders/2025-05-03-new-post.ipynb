{
 "cells": [
  {
   "cell_type": "raw",
   "id": "91e07e9b-3d16-4477-babc-e5f04430f66b",
   "metadata": {},
   "source": [
    "---\n",
    "title: Welcome\n",
    "author: Ivan\n",
    "date: 2025-05-03\n",
    "categories: [coding]\n",
    "tags: [python]\n",
    "description: Post on Data Class Builders\n",
    "toc: true\n",
    "toc-depth: 2\n",
    "description: \"Following the book Fluent python 2022.\"\n",
    "---"
   ]
  },
  {
   "cell_type": "markdown",
   "id": "91520aa4-d392-4980-9f71-08b326546131",
   "metadata": {},
   "source": [
    "# Overview of data class buidlers"
   ]
  },
  {
   "cell_type": "code",
   "execution_count": 1,
   "id": "55eef443-f0c8-416a-9831-f63193947c3e",
   "metadata": {},
   "outputs": [],
   "source": [
    "from typing import NamedTuple\n",
    "from collections import namedtuple\n",
    "from dataclasses import dataclass\n",
    "import inspect"
   ]
  },
  {
   "cell_type": "markdown",
   "id": "b6912dbf-42f7-4d10-8b73-45f5771cc5de",
   "metadata": {},
   "source": [
    "Let's start with a simple example"
   ]
  },
  {
   "cell_type": "code",
   "execution_count": 2,
   "id": "ffcc1441-1f02-4f3e-a759-deb4e4997344",
   "metadata": {},
   "outputs": [
    {
     "name": "stdout",
     "output_type": "stream",
     "text": [
      "<__main__.Coordinate object at 0x7d1a7afdff20> | False\n"
     ]
    }
   ],
   "source": [
    "class Coordinate:\n",
    "    def __init__(self, lat, lon):\n",
    "        self.lat = lat\n",
    "        self.lon = lon\n",
    "\n",
    "moscow = Coordinate(55.76, 37.62)\n",
    "location = Coordinate(55.76, 37.62)\n",
    "print(moscow, moscow==location, sep=\" | \")"
   ]
  },
  {
   "cell_type": "code",
   "execution_count": 3,
   "id": "75e3bd4a-48e6-44be-8a56-7c2e9ccd3a4a",
   "metadata": {},
   "outputs": [
    {
     "name": "stdout",
     "output_type": "stream",
     "text": [
      "Coordinate(lat=55.76, lon=37.62) | True\n"
     ]
    }
   ],
   "source": [
    "\n",
    "Coordinate = namedtuple('Coordinate', 'lat lon')\n",
    "moscow = Coordinate(lat= 55.76, lon=37.62)\n",
    "location = Coordinate(55.76, 37.62)\n",
    "print(moscow, moscow==location, sep=\" | \")"
   ]
  },
  {
   "cell_type": "code",
   "execution_count": 4,
   "id": "4ed11be6-7246-455b-a01a-4ee883d050a4",
   "metadata": {},
   "outputs": [
    {
     "name": "stdout",
     "output_type": "stream",
     "text": [
      "55.8°N, 37.6°E\n"
     ]
    }
   ],
   "source": [
    "class Coordinate(NamedTuple):\n",
    "    lat: float\n",
    "    lon: float\n",
    "    def __str__(self):\n",
    "        ns = 'N' if self.lat >= 0 else 'S'\n",
    "        we = 'E' if self.lon >= 0 else 'W'\n",
    "        return f'{abs(self.lat):.1f}°{ns}, {abs(self.lon):.1f}°{we}'\n",
    "moscow = Coordinate(lat= 55.76, lon=37.62)\n",
    "print(moscow)"
   ]
  },
  {
   "cell_type": "code",
   "execution_count": 13,
   "id": "4e366fd0-4a45-4631-b3c6-2636d9989b68",
   "metadata": {},
   "outputs": [
    {
     "name": "stdout",
     "output_type": "stream",
     "text": [
      "55.8°N, 37.6°E\n"
     ]
    }
   ],
   "source": [
    "import typing\n",
    "class Coordinate(typing.NamedTuple):\n",
    "    lat: float\n",
    "    lon: float\n",
    "    def __str__(self):\n",
    "        ns = 'N' if self.lat >= 0 else 'S'\n",
    "        we = 'E' if self.lon >= 0 else 'W'\n",
    "        return f'{abs(self.lat):.1f}°{ns}, {abs(self.lon):.1f}°{we}'\n",
    "moscow = Coordinate(lat= 55.76, lon=37.62)\n",
    "print(moscow)"
   ]
  },
  {
   "cell_type": "code",
   "execution_count": 5,
   "id": "89a4c81c-b40d-491a-bcad-cd24a3600fc9",
   "metadata": {},
   "outputs": [
    {
     "name": "stdout",
     "output_type": "stream",
     "text": [
      "55.8°N, 37.6°E\n"
     ]
    }
   ],
   "source": [
    "@dataclass(frozen=True)\n",
    "class Coordinate:\n",
    "    lat: float\n",
    "    lon: float\n",
    "    def __str__(self):\n",
    "        ns = 'N' if self.lat >= 0 else 'S'\n",
    "        we = 'E' if self.lon >= 0 else 'W'\n",
    "        return f'{abs(self.lat):.1f}°{ns}, {abs(self.lon):.1f}°{we}'\n",
    "moscow = Coordinate(lat= 55.76, lon=37.62)\n",
    "print(moscow)"
   ]
  },
  {
   "cell_type": "code",
   "execution_count": 6,
   "id": "d369c432-ee4a-45ac-831d-a504e2347dca",
   "metadata": {},
   "outputs": [
    {
     "data": {
      "text/plain": [
       "{'lat': float, 'lon': float}"
      ]
     },
     "execution_count": 6,
     "metadata": {},
     "output_type": "execute_result"
    }
   ],
   "source": [
    "inspect.get_annotations(Coordinate)"
   ]
  },
  {
   "cell_type": "markdown",
   "id": "e9efa725-d3bd-40c2-87e3-2e3f1d828f70",
   "metadata": {},
   "source": [
    "The `collections.namedtuple` function is a factory that builds subclasses of tuple\n",
    "enhanced with field names, a class name, and an informative `__repr__`"
   ]
  },
  {
   "cell_type": "markdown",
   "id": "1e0a26c8-3f73-4161-9b74-9979888cb7a3",
   "metadata": {},
   "source": [
    "### Named tuple"
   ]
  },
  {
   "cell_type": "code",
   "execution_count": 7,
   "id": "6eddb757-7728-4352-98be-293eba8d8c2a",
   "metadata": {},
   "outputs": [
    {
     "data": {
      "text/plain": [
       "City(name='Tokyo', country='JP', population=36.933, coordinates=(35.689722, 139.691667))"
      ]
     },
     "execution_count": 7,
     "metadata": {},
     "output_type": "execute_result"
    }
   ],
   "source": [
    "City = namedtuple('City', 'name country population coordinates')\n",
    "tokyo = City('Tokyo', 'JP', 36.933, (35.689722, 139.691667))\n",
    "tokyo"
   ]
  },
  {
   "cell_type": "code",
   "execution_count": 8,
   "id": "8957fd20-ccca-4695-92b0-d5a774308904",
   "metadata": {},
   "outputs": [
    {
     "data": {
      "text/plain": [
       "'{\"name\": \"Delhi NCR\", \"country\": \"IN\", \"population\": 21.935, \"coordinates\": [28.613889, 77.208889]}'"
      ]
     },
     "execution_count": 8,
     "metadata": {},
     "output_type": "execute_result"
    }
   ],
   "source": [
    "delhi_data = ('Delhi NCR', 'IN', 21.935, (28.613889, 77.208889))\n",
    "delhi = City._make(delhi_data)\n",
    "delhi._asdict()\n",
    "import json\n",
    "json.dumps(delhi._asdict())"
   ]
  },
  {
   "cell_type": "code",
   "execution_count": 9,
   "id": "604a2f5c-2916-48e4-a414-e496cb0b467c",
   "metadata": {},
   "outputs": [
    {
     "data": {
      "text/plain": [
       "type"
      ]
     },
     "execution_count": 9,
     "metadata": {},
     "output_type": "execute_result"
    }
   ],
   "source": [
    "type(City)"
   ]
  },
  {
   "cell_type": "code",
   "execution_count": 11,
   "id": "521a8071-fbfe-4c97-a9ec-f1e05e6a24f3",
   "metadata": {},
   "outputs": [
    {
     "data": {
      "text/plain": [
       "('name', 'country', 'population', 'coordinates')"
      ]
     },
     "execution_count": 11,
     "metadata": {},
     "output_type": "execute_result"
    }
   ],
   "source": [
    "City.__match_args__"
   ]
  },
  {
   "cell_type": "code",
   "execution_count": null,
   "id": "630697c2-1588-4df1-9303-8380d046f5ac",
   "metadata": {},
   "outputs": [],
   "source": []
  }
 ],
 "metadata": {
  "kernelspec": {
   "display_name": "Python 3 (ipykernel)",
   "language": "python",
   "name": "python3"
  },
  "language_info": {
   "codemirror_mode": {
    "name": "ipython",
    "version": 3
   },
   "file_extension": ".py",
   "mimetype": "text/x-python",
   "name": "python",
   "nbconvert_exporter": "python",
   "pygments_lexer": "ipython3",
   "version": "3.12.8"
  }
 },
 "nbformat": 4,
 "nbformat_minor": 5
}
